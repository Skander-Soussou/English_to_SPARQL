{
 "cells": [
  {
   "cell_type": "markdown",
   "metadata": {
    "heading_collapsed": true,
    "id": "8VR5HjXwNuvX"
   },
   "source": [
    "## <center> École Polytechnique de Montréal <br> Département Génie Informatique et Génie Logiciel <br>  INF8460 – Traitement automatique de la langue naturelle <br> </center>\n",
    "## <center> TP4 INF8460 <br>  Automne 2022 </center>"
   ]
  },
  {
   "cell_type": "markdown",
   "metadata": {
    "hidden": true
   },
   "source": [
    "<b> Équipe 10 </b> <br/>\n",
    "1904128 : Skander Soussou <br/>\n",
    "1927506 : Benjamin-Ousmane M'Bengue <br/>\n",
    "1951918 : Pierre-Luc Rivet <br/>\n",
    "1960154 : Tommy Pou <br/>\n",
    "\n",
    "---"
   ]
  },
  {
   "cell_type": "markdown",
   "metadata": {
    "hidden": true
   },
   "source": [
    "Le présent Notebook a été exécuté avec :"
   ]
  },
  {
   "cell_type": "code",
   "execution_count": null,
   "metadata": {
    "hidden": true
   },
   "outputs": [],
   "source": [
    "!python --version"
   ]
  },
  {
   "cell_type": "markdown",
   "metadata": {
    "heading_collapsed": true,
    "id": "XucTbTqIN3H2"
   },
   "source": [
    "## 1. DESCRIPTION"
   ]
  },
  {
   "cell_type": "markdown",
   "metadata": {
    "hidden": true
   },
   "source": [
    "Dans ce TP, l’idée est d'utiliser un système de traduction automatique pour générer des requêtes de base de connaissances en SPARQL à partir de questions en langage naturel.\n",
    "\n",
    "Les bases de connaissances sont une source de données structurées, selon les standards, modèles et langages du Web sémantique, qui permettent un accès efficace à une grande quantité d'information dans des domaines très variés. Cependant, leur accès est limité par la complexité des requêtes qui ne permet pas au public de s'en servir. Un système de traduction automatique pourrait permettre de générer automatiquement une requête étant donnée une question formulée par un usager en langage naturel.\n",
    "\n",
    "Dans notre cas, la langue d’entrée sera l’anglais et le langage de requête sera SPARQL (https://www.w3.org/TR/sparql11-query/). Afin de faciliter le travail du modèle, nous vous fournissons une version modifiée des questions dans laquelle certains mots sont remplacés par leur équivalent que l’on retrouve dans la requête.\n",
    "\n",
    "Voici un exemple : <br>\n",
    "\n",
    "__Question originale :__ _In how many other states do people live, whose languages are spoken in apocalypto?_\n",
    "\n",
    "__Entrée : Question taggée :__ _In how many other dbp:region do people live, whose dbo:language are spoken in dbr:Apocalypto?_\n",
    "\n",
    "__Sortie attendue : Requête:__ _select distinct count ( ?uri ) where { dbr:Apocalypto dbo:language ?x . ?x dbp:region ?uri }_\n",
    "\n",
    "(Cette demande revoie à la partie suivant de la base de connaissance DBPedia:\n",
    "\n",
    "![image.png](data:image/png;base64,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)\n",
    "\n",
    "dbr:Apocalypto a dbo:Film . <br>\n",
    "dbr:Apocalypto dbo:language dbr:Yucatec_Maya_language .  <br>\n",
    "dbr:Yucatec_Maya_language dbp:region \"Yucatán, Quintana Roo, Campeche, northern Belize\"@en . )\n",
    "\n",
    "__Réponse : 1__"
   ]
  },
  {
   "cell_type": "markdown",
   "metadata": {
    "heading_collapsed": true,
    "id": "UEMylxPCPFgp"
   },
   "source": [
    "## 2. LIBRARIES PERMISES"
   ]
  },
  {
   "cell_type": "markdown",
   "metadata": {
    "hidden": true
   },
   "source": [
    "- Numpy\n",
    "- Pandas\n",
    "- HuggingFace\n",
    "- Keras\n",
    "- NLTK\n",
    "- SPACY\n",
    "- Pytorch\n",
    "- re\n",
    "\n",
    "\n",
    "- Pour toute autre librairie, demandez à votre chargé de laboratoire"
   ]
  },
  {
   "cell_type": "markdown",
   "metadata": {
    "heading_collapsed": true,
    "id": "UFHoV-vcPYWw"
   },
   "source": [
    "## 3. INFRASTRUCTURE"
   ]
  },
  {
   "cell_type": "markdown",
   "metadata": {
    "hidden": true
   },
   "source": [
    "- Vous avez accès aux GPU du local L-4818. Dans ce cas, vous devez utiliser le dossier temp (voir le tutoriel VirtualEnv.pdf)\n",
    "- Vous pouvez aussi utiliser l’environnement Google Colab :  https://colab.research.google.com/"
   ]
  },
  {
   "cell_type": "markdown",
   "metadata": {
    "heading_collapsed": true,
    "id": "VZmv6OCzPY8h"
   },
   "source": [
    "## 4. ECHÉANCE"
   ]
  },
  {
   "cell_type": "markdown",
   "metadata": {
    "hidden": true
   },
   "source": [
    "- Fin de la session. La date précise sera indiquée sur Moodle."
   ]
  },
  {
   "cell_type": "markdown",
   "metadata": {
    "heading_collapsed": true,
    "id": "fSlDX8dEPjWE"
   },
   "source": [
    "## 5. KAGGLE"
   ]
  },
  {
   "cell_type": "markdown",
   "metadata": {
    "hidden": true
   },
   "source": [
    "Le TP4-projet se fera sous forme d’une compétition Kaggle.  Vous devrez utiliser l’environnement Kaggle pour la soumission et l’évaluation de vos modèles.  \n",
    "Pour tester votre système au fur et à mesure, vous aurez le droit à 4 soumissions par jour sur Kaggle. Vous verrez deux types de résultats sur votre « private leaderboard » et votre « public leaderboard » :\n",
    "- Le « public leaderboard » est calculé sur approximativement 30% des données de test, choisies aléatoirement par Kaggle. Ce score est public et est calculé sur la même tranche de donnée pour tous les participants. \n",
    "- Le « private leaderboard » est calculé sur approximativement 70% des données de test et n’est visible qu’à la fin de la compétition. Le résultat final sera basé sur ce leaderboard. Si aucune soumission n’est choisie, la soumission avec le meilleur score sur le « public leaderboard » sera utilisée pour calculer le score sur le « private leaderboard ».\n",
    "\n",
    "Pour l’évaluation, vous devrez soumettre un fichier de données _tp4_submission.csv_ du même format que le fichier _sample_submission.csv_ (disponible sur le site de la compétition et Moodle). _tp4_submission.csv_ devra contenir pour chaque ligne de votre ensemble de test, la requête retournée par votre approche, selon le format indiqué dans la compétition."
   ]
  },
  {
   "cell_type": "markdown",
   "metadata": {
    "heading_collapsed": true,
    "id": "MN3Q1FqLQJhX"
   },
   "source": [
    "## 6. DESCRIPTION DES DONNEES ET METRIQUES D’EVALUATION"
   ]
  },
  {
   "cell_type": "markdown",
   "metadata": {
    "hidden": true
   },
   "source": [
    "Le corpus est un corpus de 5 000 paires de questions - requêtes sur DBPedia portant sur une grande variété de thèmes plus ou moins spécifiques. Trois documents sont fournis :\n",
    "\n",
    "-\tLes 4000 paires de questions – requêtes d’entrainement dans un fichier train.csv.\n",
    "-\tLes 500 paires de questions – requêtes de validation dans un fichier validation.csv.\n",
    "-\tLes 500 questions de test pour lesquelles vous devez générer des requêtes SPARQL dans un fichier test.csv.\n",
    "\n",
    "La sortie de votre modèle sera comparée à notre ensemble de référence. Vous serez évalués en utilisant la métrique « accuracy » sur les requêtes prédites par vos modèles dans la compétition Kaggle. Cette métrique vérifie pour chaque requête prédite par votre modèle si elle est exactement égale à la requête attendue. Faite donc bien attention aux requêtes générées : un seul caractère non correct fait compter la requête comme fausse. \n",
    "\n",
    "Nous vous demandons également de rapporter, dans votre notebook uniquement, la métrique BLEU de votre modèle sur l’ensemble de validation. Cette métrique est très utilisée dans les tâches de traduction automatique et nous vous fournissons une fonction qui la calcule. Pour plus d’information voir https://en.wikipedia.org/wiki/BLEU."
   ]
  },
  {
   "cell_type": "markdown",
   "metadata": {
    "id": "123Zds9PQMIN"
   },
   "source": [
    "## 7. ETAPES DU TP"
   ]
  },
  {
   "cell_type": "markdown",
   "metadata": {},
   "source": [
    "À partir de ce notebook squelette, vous devez réaliser les étapes suivantes. (Notez que les cellules dans le squelette sont là à titre informatif il est fort probable que vous rajoutiez des sections au fur et à mesure de votre TP)."
   ]
  },
  {
   "cell_type": "markdown",
   "metadata": {
    "id": "JyOPA9qmQPc8"
   },
   "source": [
    "### 7.1. Etat de l’art (5%)"
   ]
  },
  {
   "cell_type": "markdown",
   "metadata": {},
   "source": [
    "Décrivez en __deux paragraphes__, dans une cellule du notebook, avec les références appropriées, les architectures de l’état de l’art pour la génération de requêtes SPARQL. Utilisez le service Google Scholar. Voici quelques mots-clés : Neural Machine Translation SPARQL, SPARQL Sequence to Sequence Model, etc.\n",
    "\n",
    "En vous basant sur vos recherches et sur cet article, quelles sont les meilleures techniques de l’état de l’art ?  Soyez brefs et clairs. Attention à comparer des approches sur les mêmes jeux de données et en utilisant les mêmes métriques dans votre analyse."
   ]
  },
  {
   "cell_type": "markdown",
   "metadata": {},
   "source": [
    "Nous avons trouvé une étude comparative qui évalue les performances des architectures de l'État de l’art pour la traduction du langage naturel en SPARQL. En effet le papier compare la perplexité, le blue score ainsi que le F1 scores de NSpM(Neural SPARQL Machines), GNMT-8( Google Neural Machine Translation), LSTM Luong, Transformer et une architecture encodeur-décodeur avec Conv2d.\n",
    "\n",
    "Sur les Jeux de données de validation des questionnements et réponses Mon, Mon50, Mon80, LC-QUAD et DBNQA les trois meilleurs modèles sont:\n",
    "- Le transformeur (architecture seq 2 seq) a un blue score moyen de 82.07\n",
    "- Le LSTM avec Luong comme mécanisme d’attention a un blue score moyen de 82.25\n",
    "- L’architecture encodeur-décodeur avec Conv2d à un blue score moyen de 89.16\n",
    "\n",
    "La meilleure architecture de l’état de l’art pour la génération de requêtes SPARQL selon ce papier est une architecture encodeur-décodeur ou les deux sont composés de blocs convolutionnel empilés. Chaque bloc est composé d'une couche convolutionnelle unidimensionnelle suivie d'une couche linéaire(GLU).\n",
    "\n",
    "Il est important de noter que tous les modèles utilisés dans ce papier ne sont pas pré-entraînés et donc il n’y a pas de fine-tuning. De plus, lors de nos recherches la majorité des modèles de l'état de l’art que nous avons trouvé utilisent des graph de dépendances. Nous avons donc jugé d'exclure ces derniers.\n",
    "\n",
    "Article: https://www.sciencedirect.com/science/article/pii/S0167739X20330752?casa_token=1t64Eww0lmUAAAAA:uV3bCeSQc7HGpnaWzZdwCAnEb_sim-CRxjxdM5OlibvZ-0C9pZfcycxHnnUGkZspUDntzaPMqQ#b17"
   ]
  },
  {
   "cell_type": "markdown",
   "metadata": {
    "id": "Z3mcb6v3QUVl"
   },
   "source": [
    "### 7.2. Méthodologie"
   ]
  },
  {
   "cell_type": "markdown",
   "metadata": {},
   "source": [
    "#### 7.2.1. Architecture proposée (5%)"
   ]
  },
  {
   "cell_type": "markdown",
   "metadata": {},
   "source": [
    "Proposez une architecture d'encodeur-décodeur non pré-entrainée de type Transformer ou CNN pour la tâche. Décrivez l’architecture et la méthodologie en quelques lignes dans une cellule de texte."
   ]
  },
  {
   "attachments": {
    "Architecture.png": {
     "image/png": "[encoded data removed]"
    }
   },
   "cell_type": "markdown",
   "metadata": {},
   "source": [
    "L'architecture que nous proposons est un réseau de neurones à convolutions (CNN) constitué d'encodeurs et de décodeurs. Il est fortement inspiré du modèle **ConvS2S *(Convolutional Sequence to Sequence Learning*)**. Le principe de cette architecure repose est représenté par le schéma suivant pour chaque encodeur et décodeur:\n",
    "\n",
    "![Architecture.png](attachment:Architecture.png)\n",
    "\n",
    "Tout d'abord, les entrées sont représentées dans des plongements des mots à l'aide d'une matrice de taille $[V * f]$, où $V$ est la taille du vocabulaire et $f$ est la taille du plongement. En plus des mots, on représente également les positions des mots à l'aide d'une matrice d'*embedding*. Les deux vecteurs sont ensuite combinés en une seule représentation à l'aide d'une somme $e = p_1+m1,...p_f+m_f $.\n",
    "\n",
    "Ensuite, le plongement de taille $f$ passe à travers une couche cachée et devient de taille $h$ où $h$ est la taille de la couche cachée. Puis, l'entrée est mise dans la couche de convolutions. À la sortie de la couche de convolutions, on retrouve une fonction d'activation **GLU**, qui consiste en un *Gated linear unit*. \n",
    "\n",
    "La sortie du GLU est additionnée au plongement mis en entrée pour calculer la connection résiduelle. Le résultat de cette série d'opérations correspond à la sortie de l'encodeur.\n",
    "\n",
    "Pour les décodeurs, les mêmes opérations sont effectuées. De plus, les valeurs de l'attention multi-tête sont calculées à l'aide des séquences du contexte. On effectue des produits scalaires entre la sortie du GLU et les valeurs obtenues en calculant l'attention pour déterminer la prochaine séquence à générer.\n",
    "\n",
    "Référence:\n",
    "Jonas Gehring, Michael Auli, David Grangier, Denis Yarats, and Yann N Dauphin. 2017. _Convolutional sequence to sequence learning_. arXiv preprint\n",
    "arXiv:1705.03122."
   ]
  },
  {
   "cell_type": "markdown",
   "metadata": {
    "id": "YOvcuz0A1VhQ"
   },
   "source": [
    "#### 7.2.2. Mise en place (45%)"
   ]
  },
  {
   "cell_type": "markdown",
   "metadata": {},
   "source": [
    "Mettez en place la solution proposée dans la partie précédente. "
   ]
  },
  {
   "cell_type": "markdown",
   "metadata": {},
   "source": [
    "Note: Le code est très fortement inspiré du projet suivant : <br />\n",
    "[pytorch Seq2Seq - Convolutional Sequence to Sequence Learning](https://github.com/bentrevett/pytorch-seq2seq/blob/master/5%20-%20Convolutional%20Sequence%20to%20Sequence%20Learning.ipynb)"
   ]
  },
  {
   "cell_type": "markdown",
   "metadata": {
    "heading_collapsed": true
   },
   "source": [
    "##### 7.2.2.0 Initialisation de l'environnement de travail"
   ]
  },
  {
   "cell_type": "code",
   "execution_count": 1,
   "metadata": {
    "hidden": true
   },
   "outputs": [],
   "source": [
    "import random\n",
    "import torch\n",
    "\n",
    "SEED = 0\n",
    "\n",
    "random.seed(SEED)\n",
    "torch.manual_seed(SEED)\n",
    "torch.cuda.manual_seed(SEED)\n",
    "torch.backends.cudnn.deterministic = True"
   ]
  },
  {
   "cell_type": "markdown",
   "metadata": {
    "heading_collapsed": true
   },
   "source": [
    "##### 7.2.2.1 Chargement des données"
   ]
  },
  {
   "cell_type": "code",
   "execution_count": 2,
   "metadata": {
    "hidden": true
   },
   "outputs": [],
   "source": [
    "# Retire le besoin de modifier la variable PATH. Tant que le script est exécuté depuis sa position\n",
    "# dans le filesystem\n",
    "\n",
    "import os\n",
    "directory_path = os.getcwd()\n",
    "PATH = directory_path + \"/data/\""
   ]
  },
  {
   "cell_type": "code",
   "execution_count": 3,
   "metadata": {
    "hidden": true
   },
   "outputs": [],
   "source": [
    "import pandas\n",
    "\n",
    "# Chargement des fichiers d'entraînement et de tests.\n",
    "train = pandas.read_csv(PATH + \"train.csv\")\n",
    "valid = pandas.read_csv(PATH + \"validation.csv\")\n",
    "test = pandas.read_csv(PATH + \"test.csv\")"
   ]
  },
  {
   "cell_type": "code",
   "execution_count": 4,
   "metadata": {
    "hidden": true
   },
   "outputs": [
    {
     "data": {
      "text/html": [
       "<div>\n",
       "<style scoped>\n",
       "    .dataframe tbody tr th:only-of-type {\n",
       "        vertical-align: middle;\n",
       "    }\n",
       "\n",
       "    .dataframe tbody tr th {\n",
       "        vertical-align: top;\n",
       "    }\n",
       "\n",
       "    .dataframe thead th {\n",
       "        text-align: right;\n",
       "    }\n",
       "</style>\n",
       "<table border=\"1\" class=\"dataframe\">\n",
       "  <thead>\n",
       "    <tr style=\"text-align: right;\">\n",
       "      <th></th>\n",
       "      <th>id</th>\n",
       "      <th>english</th>\n",
       "      <th>sparql</th>\n",
       "    </tr>\n",
       "  </thead>\n",
       "  <tbody>\n",
       "    <tr>\n",
       "      <th>0</th>\n",
       "      <td>0</td>\n",
       "      <td>how many movies are there whose dbo:director i...</td>\n",
       "      <td>select distinct count ( ?uri ) where { ?uri db...</td>\n",
       "    </tr>\n",
       "    <tr>\n",
       "      <th>1</th>\n",
       "      <td>1</td>\n",
       "      <td>what dbo:City 's dbo:founder is dbr:John_Forbe...</td>\n",
       "      <td>select distinct ?uri where { ?uri dbo:founder ...</td>\n",
       "    </tr>\n",
       "    <tr>\n",
       "      <th>2</th>\n",
       "      <td>2</td>\n",
       "      <td>what is the dbo:River whose dbo:riverMouth is ...</td>\n",
       "      <td>select distinct ?uri where { ?uri dbo:riverMou...</td>\n",
       "    </tr>\n",
       "    <tr>\n",
       "      <th>3</th>\n",
       "      <td>3</td>\n",
       "      <td>what is the dbp:allegiance of dbr:John_Kotelaw...</td>\n",
       "      <td>select distinct ?uri where { dbr:John_Kotelawa...</td>\n",
       "    </tr>\n",
       "    <tr>\n",
       "      <th>4</th>\n",
       "      <td>4</td>\n",
       "      <td>what is the total number of dbp:race of the ra...</td>\n",
       "      <td>select distinct count ( ?uri ) where { ?x dbo:...</td>\n",
       "    </tr>\n",
       "    <tr>\n",
       "      <th>5</th>\n",
       "      <td>5</td>\n",
       "      <td>what is the dbo:incumbent of the dbr:Al_Gore_p...</td>\n",
       "      <td>select distinct ?uri where { dbr:Al_Gore_presi...</td>\n",
       "    </tr>\n",
       "    <tr>\n",
       "      <th>6</th>\n",
       "      <td>6</td>\n",
       "      <td>what is the dbo:region of dbr:Tom_Perriello ?</td>\n",
       "      <td>select distinct ?uri where { dbr:Tom_Perriello...</td>\n",
       "    </tr>\n",
       "    <tr>\n",
       "      <th>7</th>\n",
       "      <td>7</td>\n",
       "      <td>what is the dbo:layout of the dbo:Automobile w...</td>\n",
       "      <td>select distinct ?uri where { ?x dbp:related db...</td>\n",
       "    </tr>\n",
       "    <tr>\n",
       "      <th>8</th>\n",
       "      <td>8</td>\n",
       "      <td>what is the dbp:address of the hotels whose db...</td>\n",
       "      <td>select distinct ?uri where { ?x dbp:operator d...</td>\n",
       "    </tr>\n",
       "    <tr>\n",
       "      <th>9</th>\n",
       "      <td>9</td>\n",
       "      <td>what is the dbp:mascot of dbr:Austin_College ?</td>\n",
       "      <td>select distinct ?uri where { dbr:Austin_Colleg...</td>\n",
       "    </tr>\n",
       "  </tbody>\n",
       "</table>\n",
       "</div>"
      ],
      "text/plain": [
       "   id                                            english  \\\n",
       "0   0  how many movies are there whose dbo:director i...   \n",
       "1   1  what dbo:City 's dbo:founder is dbr:John_Forbe...   \n",
       "2   2  what is the dbo:River whose dbo:riverMouth is ...   \n",
       "3   3  what is the dbp:allegiance of dbr:John_Kotelaw...   \n",
       "4   4  what is the total number of dbp:race of the ra...   \n",
       "5   5  what is the dbo:incumbent of the dbr:Al_Gore_p...   \n",
       "6   6      what is the dbo:region of dbr:Tom_Perriello ?   \n",
       "7   7  what is the dbo:layout of the dbo:Automobile w...   \n",
       "8   8  what is the dbp:address of the hotels whose db...   \n",
       "9   9     what is the dbp:mascot of dbr:Austin_College ?   \n",
       "\n",
       "                                              sparql  \n",
       "0  select distinct count ( ?uri ) where { ?uri db...  \n",
       "1  select distinct ?uri where { ?uri dbo:founder ...  \n",
       "2  select distinct ?uri where { ?uri dbo:riverMou...  \n",
       "3  select distinct ?uri where { dbr:John_Kotelawa...  \n",
       "4  select distinct count ( ?uri ) where { ?x dbo:...  \n",
       "5  select distinct ?uri where { dbr:Al_Gore_presi...  \n",
       "6  select distinct ?uri where { dbr:Tom_Perriello...  \n",
       "7  select distinct ?uri where { ?x dbp:related db...  \n",
       "8  select distinct ?uri where { ?x dbp:operator d...  \n",
       "9  select distinct ?uri where { dbr:Austin_Colleg...  "
      ]
     },
     "execution_count": 4,
     "metadata": {},
     "output_type": "execute_result"
    }
   ],
   "source": [
    "train.head(10)"
   ]
  },
  {
   "cell_type": "markdown",
   "metadata": {},
   "source": [
    "##### 7.2.2.2 Pré-traitement"
   ]
  },
  {
   "cell_type": "code",
   "execution_count": 5,
   "metadata": {},
   "outputs": [],
   "source": [
    "%%capture\n",
    "\n",
    "import warnings\n",
    "warnings.filterwarnings('ignore')\n",
    "\n",
    "\n",
    "# Importing relevant packages\n",
    "\n",
    "import re\n",
    "\n",
    "import nltk\n",
    "from nltk.corpus import stopwords\n",
    "nltk.download('stopwords', quiet = True)\n",
    "stopwords = stopwords.words('english')\n",
    "\n",
    "stemmer = nltk.stem.porter.PorterStemmer()"
   ]
  },
  {
   "cell_type": "code",
   "execution_count": 6,
   "metadata": {
    "code_folding": [
     0,
     15,
     30,
     36
    ]
   },
   "outputs": [],
   "source": [
    "\"\"\"\n",
    "    Fonction qui converti les tokens SPARQL dans un format qui évite\n",
    "    la création de milliers de tokens distincts pour les variables\n",
    "    recherchées.\n",
    "    \n",
    "    : @param df_input        : Le Dataframe à traiter\n",
    "    : @param cols            : Liste de strings contenant les noms des colonnes à traiter\n",
    "    : @param charPunctuation : Si la ponctuation attendue d'une requête SPARQL\n",
    "                               doit être convertie en tokens textuels\n",
    "    : @param keywordReplace  : Si les mots clés d'une requête SPARQL doivent\n",
    "                               être convertis en tokens textuels\n",
    "    : @return df             : Dataframe contenant les listes de jetons pré-traités\n",
    "    : @return lookup         : Dictionnaires de traduction des tokens protégés\n",
    "\"\"\"\n",
    "\n",
    "SPARQL_reserved_keywords = {\n",
    "    \"ask\" : \"<ask>\",\n",
    "    \"count\" : \"<count>\",\n",
    "    \"distinct\" : \"<distinct>\",\n",
    "    \"select\" : \"<select>\",\n",
    "    \"where\" : \"<where>\",\n",
    "    \"filter\" : \"<filter>\",\n",
    "    \"group by\" : \"<group_by>\",\n",
    "    \"limit\" : \"<limit>\",\n",
    "    \"order by\" : \"<order_by>\",\n",
    "    \"union\" : \"<union>\"\n",
    "}\n",
    "\n",
    "SPARQL_operators = [\"<count>\"]\n",
    "\n",
    "SPARQL_punctuation = {\n",
    "    \".\" : \" <sepdot> \",\n",
    "    \"{\" : \" <openBracket> \",\n",
    "    \"}\" : \" <closebracket> \"\n",
    "}\n",
    "\n",
    "SPARQL_translation_dict = {\n",
    "    \"<sepdot>\" : \".\",\n",
    "    \"<openbracket>\" : \"{\",\n",
    "    \"<closebracket>\" : \"}\",\n",
    "    \"<ask>\" : \"ask\",\n",
    "    \"<count>\" : \"count\",\n",
    "    \"<distinct>\" : \"distinct\",\n",
    "    \"<select>\" : \"select\",\n",
    "    \"<where>\" : \"where\",\n",
    "    \"<filter>\" : \"filter\",\n",
    "    \"<group_by>\" : \"group by\",\n",
    "    \"<limit>\" : \"limit\",\n",
    "    \"<order_by>\" : \"order by\",\n",
    "    \"<union>\" : \"union\",\n",
    "}\n",
    "\n",
    "def SPARQL_tokens(df_input, cols, charPunctuation = False, keywordReplace = False) :\n",
    "    df = df_input[cols].copy(deep = True)\n",
    "    \n",
    "    arr = df.to_numpy()\n",
    "    lookup = pandas.DataFrame(columns = [\"lookup\"], index = list(range(len(df))))\n",
    "    lookup.iloc[:, 0] = [{} for i in range(len(lookup))]\n",
    "    \n",
    "    # dbo:texte, dbp:texte, dbr:texte et rdf:type\n",
    "    pattern = \"(db.|rdf):(\\S*)\"\n",
    "    \n",
    "    # ?x, ( ?uri )\n",
    "    pattern_var = \"(?:\\( )?(\\?[A-Za-z0-9]+)(?: \\))?\"\n",
    "    par_left = \"(\\( )?\"\n",
    "    par_right = \"( \\))?\"\n",
    "    \n",
    "    for i in range(len(df_input)) :\n",
    "        tokens = sorted(list(set(re.findall(pattern, \" \".join(arr[i, :])))))\n",
    "        var = list(set(re.findall(pattern_var, \" \".join(arr[i, :]))))\n",
    "        \n",
    "        prev = \"\"\n",
    "        offset = 0\n",
    "        if(len(tokens) > 0) :\n",
    "            for j in range(len(tokens)) :\n",
    "                if(prev != tokens[j][0]) :\n",
    "                    prev = tokens[j][0]\n",
    "                    offset = j\n",
    "                \n",
    "                for k in range(len(cols)) :\n",
    "                    arr[i, k] = re.sub(f\" ({tokens[j][0]}):\" + re.escape(tokens[j][1] + \" \"), f\" <\\g<1>_{j - offset}> \", arr[i, k])\n",
    "                \n",
    "                lookup.iloc[i, 0][f\"<{tokens[j][0]}_{j - offset}>\"] = f\"{tokens[j][0]}:{tokens[j][1]}\"\n",
    "        \n",
    "        if(len(var) > 0) :\n",
    "            for j in range(len(var)) :\n",
    "                for k in range(len(cols)) :\n",
    "                    arr[i, k] = re.sub(par_left + re.escape(var[j]) + par_right, f\"<var_{j}>\", arr[i, k])\n",
    "                \n",
    "                lookup.iloc[i, 0][f\"<var_{j}>\"] = var[j]\n",
    "        \n",
    "    \n",
    "    # Remplace les symboles de ponctuation associés aux requêtes SPARQL\n",
    "    if(charPunctuation and \"sparql\" in cols) :\n",
    "        for key in SPARQL_punctuation :\n",
    "            df[\"sparql\"] = df[\"sparql\"].str.replace(key, SPARQL_punctuation[key])\n",
    "    \n",
    "    if(keywordReplace and \"sparql\" in cols) :\n",
    "        for keyword in SPARQL_reserved_keywords.keys():\n",
    "            df[\"sparql\"] = df[\"sparql\"].str.replace(keyword, SPARQL_reserved_keywords[keyword])\n",
    "    \n",
    "    return df, lookup"
   ]
  },
  {
   "cell_type": "code",
   "execution_count": 7,
   "metadata": {
    "code_folding": [
     0
    ]
   },
   "outputs": [],
   "source": [
    "\"\"\"\n",
    "    Fonction qui transforme un dataframe de chaînes de caractères en liste de\n",
    "    jetons.\n",
    "    \n",
    "    Les étapes de pré-traitement à compléter sont les suivantes :\n",
    "    1. Enlever les majuscules\n",
    "    2. Enlever les caractères de ponctuations\n",
    "    3. Séparer la chaine de caractères en une liste de jetons (tokenization) \n",
    "    4. Enlever les stopwords\n",
    "    5. Stemming (racinisation)\n",
    "    \n",
    "    : @param df_input        : Le Dataframe à traiter\n",
    "    : @param cols            : Liste de strings contenant les noms des colonnes à traiter\n",
    "    : @param removeStopwords : Si les stopwords doivent être retirés\n",
    "    : @param stemming        : Si la racinisation doit être appliquée\n",
    "    : @param charPunctuation : Si la ponctuation attendue d'une requête SPARQL\n",
    "                               doit être convertie en tokens textuels\n",
    "    : @param keywordReplace  : Si les mots clés d'une requête SPARQL doivent\n",
    "                               être convertis en tokens textuels\n",
    "    : @return df             : Dataframe contenant les listes de jetons pré-traités\n",
    "    : @return lookup         : Dictionnaires de traduction des tokens protégés\n",
    "\"\"\"\n",
    "def prepocessDataframeCols(df_input, cols, removeStopwords = False, stemming = False, charPunctuation = False, keywordReplace = False) :\n",
    "    df = df_input[cols].copy(deep = True)\n",
    "    \n",
    "    # Retire les symboles de ponctuation associés aux tokens SPARQL qui vont être créés\n",
    "    df = df.replace(\"[<>]\", \"\", regex = True)\n",
    "    \n",
    "    df, lookup = SPARQL_tokens(df_input, cols, charPunctuation = charPunctuation, keywordReplace = keywordReplace)\n",
    "    \n",
    "    for col in cols :\n",
    "        # Retire les majuscules\n",
    "        df[col] = df[col].str.lower()\n",
    "        \n",
    "        # Retire la ponctuation en la remplaçant par des espaces et\n",
    "        # en retirant ensuite les espaces doubles\n",
    "        if(col == \"sparql\") :\n",
    "            if(charPunctuation) :\n",
    "                df[col] = df[col].str.replace(\"[^A-Za-z0-9<>_]\", \" \")\n",
    "            else :\n",
    "                df[col] = df[col].str.replace(\"[^A-Za-z0-9{}.<>_]\", \" \")\n",
    "                df[col] = df[col].str.replace(\"([{}.])\", \" \\g<1> \")\n",
    "        else :\n",
    "            df[col] = df[col].str.replace(\"[^A-Za-z0-9<>_]\", \" \")\n",
    "        \n",
    "        df[col] = df[col].str.replace(\"[ ]+\", \" \")\n",
    "        \n",
    "        # Sépare en jetons selon les espaces\n",
    "        df[col] = df[col].str.split()\n",
    "        \n",
    "        if(removeStopwords or stemming) :\n",
    "            for i in range(len(df[col])) :\n",
    "                tokens = df[col].iloc[i]\n",
    "                if(removeStopwords) :\n",
    "                    filtered_tokens = []\n",
    "                    for token in tokens :\n",
    "                        if token not in stopwords :\n",
    "                            filtered_tokens = filtered_tokens + [token]\n",
    "                    \n",
    "                    tokens = filtered_tokens\n",
    "                \n",
    "                if(stemming) :\n",
    "                    tokens = [stemmer.stem(token) for token in tokens]\n",
    "                \n",
    "                df[col].iloc[i] = tokens\n",
    "    \n",
    "    return df, lookup"
   ]
  },
  {
   "cell_type": "code",
   "execution_count": 8,
   "metadata": {},
   "outputs": [],
   "source": [
    "def joinTokens(df_input, cols) :\n",
    "    df = df_input[cols].copy(deep = True)\n",
    "    \n",
    "    for col in cols :\n",
    "        for i in range(len(df[col])) :\n",
    "            df[col].iloc[i] = \" \".join(df[col].iloc[i])\n",
    "    \n",
    "    return df\n",
    "\n",
    "def splitTokens(x) :\n",
    "    return x.split()"
   ]
  },
  {
   "cell_type": "code",
   "execution_count": 9,
   "metadata": {},
   "outputs": [],
   "source": [
    "# On applique la fonction de prétraitement aux ensembles de données\n",
    "cols = [\"english\", \"sparql\"]\n",
    "tokens, lookup = prepocessDataframeCols(train, cols, charPunctuation = True, keywordReplace = True)\n",
    "train[\"tokens\"] = tokens[\"english\"]\n",
    "train[\"request\"] = tokens[\"sparql\"]\n",
    "train[\"lookup\"] = lookup[\"lookup\"]\n",
    "\n",
    "joinTokens(tokens, cols).to_csv(PATH + \"train_tokens.csv\")\n",
    "\n",
    "tokens, lookup = prepocessDataframeCols(valid, cols, charPunctuation = True, keywordReplace = True)\n",
    "valid[\"tokens\"] = tokens[\"english\"]\n",
    "valid[\"request\"] = tokens[\"sparql\"]\n",
    "valid[\"lookup\"] = lookup[\"lookup\"]\n",
    "\n",
    "joinTokens(tokens, cols).to_csv(PATH + \"valid_tokens.csv\")\n",
    "\n",
    "cols = [\"english\"]\n",
    "tokens, lookup = prepocessDataframeCols(test, cols, charPunctuation = True, keywordReplace = True)\n",
    "test[\"tokens\"] = tokens[\"english\"]\n",
    "test[\"lookup\"] = lookup[\"lookup\"]\n",
    "\n",
    "joinTokens(tokens, cols).to_csv(PATH + \"test_tokens.csv\")"
   ]
  },
  {
   "cell_type": "markdown",
   "metadata": {
    "heading_collapsed": true
   },
   "source": [
    "##### 7.2.2.3 Représentation du jeu de données"
   ]
  },
  {
   "cell_type": "code",
   "execution_count": 10,
   "metadata": {
    "hidden": true
   },
   "outputs": [],
   "source": [
    "from torchtext.legacy.data import Field\n",
    "\n",
    "# Source\n",
    "SRC = Field(init_token = '<SOS>',\n",
    "            eos_token = '<EOS>',\n",
    "            preprocessing = None,\n",
    "            tokenize = splitTokens,\n",
    "            batch_first = True)\n",
    "\n",
    "# Target\n",
    "TRG = Field(init_token = '<SOS>',\n",
    "            eos_token = '<EOS>',\n",
    "            preprocessing = None,\n",
    "            tokenize = splitTokens,\n",
    "            batch_first = True)"
   ]
  },
  {
   "cell_type": "code",
   "execution_count": 11,
   "metadata": {
    "hidden": true
   },
   "outputs": [],
   "source": [
    "from torchtext.legacy.data import TabularDataset\n",
    "\n",
    "fields = {\n",
    "    'english' : ('english', SRC),\n",
    "    'sparql' : ('sparql', TRG)\n",
    "}\n",
    "\n",
    "train_data, valid_data = TabularDataset.splits(\n",
    "    path = PATH,\n",
    "    train = \"train_tokens.csv\",\n",
    "    validation = \"valid_tokens.csv\",\n",
    "    format = \"csv\",\n",
    "    fields = fields\n",
    ")"
   ]
  },
  {
   "cell_type": "markdown",
   "metadata": {
    "heading_collapsed": true
   },
   "source": [
    "##### 7.2.2.4 Génération du vocabulaire"
   ]
  },
  {
   "cell_type": "code",
   "execution_count": 12,
   "metadata": {
    "hidden": true
   },
   "outputs": [],
   "source": [
    "min_freq = 0\n",
    "SRC.build_vocab(train_data, max_size = 10000, min_freq = min_freq)\n",
    "TRG.build_vocab(train_data, max_size = 10000, min_freq = min_freq)"
   ]
  },
  {
   "cell_type": "code",
   "execution_count": 13,
   "metadata": {
    "hidden": true
   },
   "outputs": [
    {
     "name": "stdout",
     "output_type": "stream",
     "text": [
      "279\n",
      "10 most frequent words : [('the', 6257), ('is', 5669), ('<dbr_0>', 3995), ('of', 3803), ('<dbo_0>', 3048), ('what', 2851), ('<dbp_0>', 2526), ('whose', 2120), ('<dbo_1>', 1449), ('<dbr_1>', 1275)]\n"
     ]
    }
   ],
   "source": [
    "print(len(SRC.vocab))\n",
    "print(\"10 most frequent words :\", SRC.vocab.freqs.most_common(10))"
   ]
  },
  {
   "cell_type": "code",
   "execution_count": 14,
   "metadata": {
    "hidden": true
   },
   "outputs": [
    {
     "name": "stdout",
     "output_type": "stream",
     "text": [
      "22\n",
      "[('<var_0>', 9719), ('<sepdot>', 5184), ('<where>', 4000), ('<openbracket>', 4000), ('<dbr_0>', 4000), ('<closebracket>', 4000), ('<select>', 3715), ('<distinct>', 3715), ('<var_1>', 3470), ('<dbo_0>', 3259)]\n"
     ]
    }
   ],
   "source": [
    "print(len(TRG.vocab))\n",
    "print(TRG.vocab.freqs.most_common(10))"
   ]
  },
  {
   "cell_type": "markdown",
   "metadata": {
    "heading_collapsed": true
   },
   "source": [
    "##### 7.2.2.5 Construction du modèle"
   ]
  },
  {
   "cell_type": "code",
   "execution_count": 15,
   "metadata": {
    "hidden": true
   },
   "outputs": [],
   "source": [
    "# Paramètres et hyper-paramètres\n",
    "INPUT_DIM = len(SRC.vocab)\n",
    "OUTPUT_DIM = len(TRG.vocab)\n",
    "\n",
    "EMB_DIM = 256\n",
    "HID_DIM = 512       # each conv. layer has 2 * hid_dim filters\n",
    "ENC_LAYERS = 14     # number of conv. blocks in encoder\n",
    "DEC_LAYERS = 14     # number of conv. blocks in decoder\n",
    "ENC_KERNEL_SIZE = 3 # must be odd\n",
    "DEC_KERNEL_SIZE = 3 # can be even or odd\n",
    "ENC_DROPOUT = 0.2\n",
    "DEC_DROPOUT = 0.2\n",
    "TRG_PAD_IDX = TRG.vocab.stoi[TRG.pad_token]"
   ]
  },
  {
   "cell_type": "code",
   "execution_count": 16,
   "metadata": {
    "code_folding": [
     2,
     3
    ],
    "hidden": true
   },
   "outputs": [],
   "source": [
    "import torch.nn.functional as F\n",
    "\n",
    "class Encoder(torch.nn.Module) :\n",
    "    def __init__(self, input_dim, emb_dim, hid_dim, n_layers, kernel_size, dropout, device, max_length = 100) :\n",
    "        super().__init__()\n",
    "        \n",
    "        assert kernel_size % 2 == 1, \"Kernel size must be odd!\"\n",
    "        \n",
    "        self.device = device\n",
    "        \n",
    "        self.scale = torch.sqrt(torch.FloatTensor([0.5])).to(device)\n",
    "        \n",
    "        self.tok_embedding = torch.nn.Embedding(input_dim, emb_dim)\n",
    "        self.pos_embedding = torch.nn.Embedding(max_length, emb_dim)\n",
    "        \n",
    "        self.emb2hid = torch.nn.Linear(emb_dim, hid_dim)\n",
    "        self.hid2emb = torch.nn.Linear(hid_dim, emb_dim)\n",
    "        \n",
    "        self.convs = torch.nn.ModuleList([torch.nn.Conv1d(in_channels = hid_dim,\n",
    "                                                          out_channels = 2 * hid_dim,\n",
    "                                                          kernel_size = kernel_size,\n",
    "                                                          padding = (kernel_size - 1) // 2)\n",
    "                                          for _ in range(n_layers)])\n",
    "        \n",
    "        self.dropout = torch.nn.Dropout(dropout)\n",
    "    \n",
    "    \n",
    "    def forward(self, src) :\n",
    "        # src[batch_size x src_len]\n",
    "        batch_size = src.shape[0]\n",
    "        src_len = src.shape[1]\n",
    "        \n",
    "        # Create position tensor\n",
    "        # pos[batch_size x src_len] = [0, 1, 2, 3, ..., src len - 1]\n",
    "        pos = torch.arange(0, src_len).unsqueeze(0).repeat(batch_size, 1).to(self.device)\n",
    "        \n",
    "        # Embed tokens and positions\n",
    "        # tok_embedded[batch_size x src_len x emb_dim]\n",
    "        # pos_embedded[batch_size x src_len x emb_dim]\n",
    "        tok_embedded = self.tok_embedding(src)\n",
    "        pos_embedded = self.pos_embedding(pos)\n",
    "        \n",
    "        # Combine embeddings by elementwise summing\n",
    "        # embedded[batch_size x src_len x emb_dim]\n",
    "        embedded = self.dropout(tok_embedded + pos_embedded)\n",
    "        \n",
    "        # Pass embedded through linear layer to convert from emb_dim to hid_dim\n",
    "        # conv_input[batch_size x src_len x hid_dim]\n",
    "        conv_input = self.emb2hid(embedded)\n",
    "        \n",
    "        # Permute for convolutional layer\n",
    "        # conv_input[batch_size x hid_dim x src_len]\n",
    "        conv_input = conv_input.permute(0, 2, 1) \n",
    "        \n",
    "        # Execute convolutional blocks\n",
    "        for i, conv in enumerate(self.convs) :\n",
    "            # Pass through convolutional layer\n",
    "            # conved[batch_size x 2*hid_dim x src_len]\n",
    "            conved = conv(self.dropout(conv_input))\n",
    "\n",
    "            # Pass through GLU activation function\n",
    "            # conved[batch_size x hid_dim x src_len]\n",
    "            conved = F.glu(conved, dim = 1)\n",
    "            \n",
    "            # Apply residual connection\n",
    "            # conved[batch_size x hid_dim x src_len]\n",
    "            conved = (conved + conv_input) * self.scale\n",
    "            \n",
    "            # Set conv_input to conved for next loop iteration\n",
    "            conv_input = conved\n",
    "        \n",
    "        # Permute and convert back to emb dim\n",
    "        # conved[batch_size x src_len x emb_dim]\n",
    "        conved = self.hid2emb(conved.permute(0, 2, 1))\n",
    "        \n",
    "        # Elementwise sum output (conved) and input (embedded) to be used for attention\n",
    "        # combined[batch_size x src_len x emb_dim]\n",
    "        combined = (conved + embedded) * self.scale\n",
    "        \n",
    "        return conved, combined"
   ]
  },
  {
   "cell_type": "code",
   "execution_count": 17,
   "metadata": {
    "code_folding": [
     0
    ],
    "hidden": true,
    "scrolled": true
   },
   "outputs": [],
   "source": [
    "class Decoder(torch.nn.Module) :\n",
    "    def __init__(self, output_dim, emb_dim, hid_dim, n_layers, kernel_size, dropout, trg_pad_idx, device, max_length = 100) :\n",
    "        super().__init__()\n",
    "        \n",
    "        self.kernel_size = kernel_size\n",
    "        self.trg_pad_idx = trg_pad_idx\n",
    "        self.device = device\n",
    "        \n",
    "        self.scale = torch.sqrt(torch.FloatTensor([0.5])).to(device)\n",
    "        \n",
    "        self.tok_embedding = torch.nn.Embedding(output_dim, emb_dim)\n",
    "        self.pos_embedding = torch.nn.Embedding(max_length, emb_dim)\n",
    "        \n",
    "        self.emb2hid = torch.nn.Linear(emb_dim, hid_dim)\n",
    "        self.hid2emb = torch.nn.Linear(hid_dim, emb_dim)\n",
    "        \n",
    "        self.attn_hid2emb = torch.nn.Linear(hid_dim, emb_dim)\n",
    "        self.attn_emb2hid = torch.nn.Linear(emb_dim, hid_dim)\n",
    "        \n",
    "        self.fc_out = torch.nn.Linear(emb_dim, output_dim)\n",
    "        \n",
    "        self.convs = torch.nn.ModuleList([torch.nn.Conv1d(in_channels = hid_dim,\n",
    "                                                          out_channels = 2 * hid_dim,\n",
    "                                                          kernel_size = kernel_size)\n",
    "                                          for _ in range(n_layers)])\n",
    "        \n",
    "        self.dropout = torch.nn.Dropout(dropout)\n",
    "    \n",
    "    \n",
    "    def calculate_attention(self, embedded, conved, encoder_conved, encoder_combined) :\n",
    "        # embedded[batch_size x trg_len x emb_dim]\n",
    "        # conved[batch_size x hid_dim x trg_len]\n",
    "        # encoder_conved[batch_size x src_len x emb_dim]\n",
    "        # encoder_combined[batch_size x src_len x emb_dim]\n",
    "        \n",
    "        # Permute and convert back to emb_dim\n",
    "        # conved_emb[batch_size x trg_len x emb_dim]\n",
    "        conved_emb = self.attn_hid2emb(conved.permute(0, 2, 1))\n",
    "        \n",
    "        # combined[batch_size x trg_len x emb_dim]\n",
    "        combined = (conved_emb + embedded) * self.scale\n",
    "        \n",
    "        # energy[batch_size x trg_len x src_len]\n",
    "        energy = torch.matmul(combined, encoder_conved.permute(0, 2, 1))\n",
    "        \n",
    "        # attention[batch_size x trg_len x src_len]\n",
    "        attention = F.softmax(energy, dim = 2)\n",
    "        \n",
    "        # attended_encoding[batch_size x trg_len x emb_dim]\n",
    "        attended_encoding = torch.matmul(attention, encoder_combined)\n",
    "        \n",
    "        # Convert from emb_dim -> hid_dim\n",
    "        # attended_encoding[batch_size x trg_len x hid_dim]\n",
    "        attended_encoding = self.attn_emb2hid(attended_encoding)\n",
    "        \n",
    "        # Apply residual connection\n",
    "        # attended_combined[batch_size x hid_dim x trg_len]\n",
    "        attended_combined = (conved + attended_encoding.permute(0, 2, 1)) * self.scale\n",
    "        \n",
    "        return attention, attended_combined\n",
    "    \n",
    "    \n",
    "    def forward(self, trg, encoder_conved, encoder_combined) :\n",
    "        # encoder_conved[batch_size x src_len x emb_dim]\n",
    "        # encoder_combined[batch_size x src_len x emb_dim]\n",
    "        \n",
    "        # trg[batch_size x trg_len]\n",
    "        batch_size = trg.shape[0]\n",
    "        trg_len = trg.shape[1]\n",
    "        \n",
    "        # Create position tensor\n",
    "        # pos[batch_size x trg_len] = [0, 1, 2, 3, ..., src len - 1]\n",
    "        pos = torch.arange(0, trg_len).unsqueeze(0).repeat(batch_size, 1).to(self.device)\n",
    "        \n",
    "        # Embed tokens and positions\n",
    "        # tok_embedded[batch_size x trg_len x emb_dim]\n",
    "        # pos_embedded[batch_size x trg_len x emb_dim]\n",
    "        tok_embedded = self.tok_embedding(trg)\n",
    "        pos_embedded = self.pos_embedding(pos)\n",
    "        \n",
    "        # Combine embeddings by elementwise summing\n",
    "        # embedded[batch_size x trg_len x emb_dim]\n",
    "        embedded = self.dropout(tok_embedded + pos_embedded)\n",
    "        \n",
    "        # Pass embedded through linear layer to convert from emb_dim to hid_dim\n",
    "        # conv_input[batch_size x trg_len x hid_dim]\n",
    "        conv_input = self.emb2hid(embedded)\n",
    "        \n",
    "        # Permute for convolutional layer\n",
    "        # conv_input[batch_size x hid_dim x trg_len]\n",
    "        conv_input = conv_input.permute(0, 2, 1)\n",
    "        \n",
    "        hid_dim = conv_input.shape[1]\n",
    "        \n",
    "        # Execute convolutional blocks\n",
    "        for i, conv in enumerate(self.convs) :\n",
    "            # Apply dropout\n",
    "            # conv_input[batch_size x hid_dim x trg_len]\n",
    "            conv_input = self.dropout(conv_input)\n",
    "            \n",
    "            # Need to pad so decoder can't \"cheat\"\n",
    "            # padding[batch_size x hid_dim x kernel_size - 1]\n",
    "            padding = torch.zeros(batch_size,\n",
    "                                  hid_dim,\n",
    "                                  self.kernel_size - 1).fill_(self.trg_pad_idx).to(self.device)\n",
    "            \n",
    "            # padded_conv_input[batch_size x hid_dim x trg_len + kernel_size - 1]\n",
    "            padded_conv_input = torch.cat((padding, conv_input), dim = 2)\n",
    "            \n",
    "            # Pass through convolutional layer\n",
    "            # conved[batch_size x 2*hid_dim x trg_len]\n",
    "            conved = conv(padded_conv_input)\n",
    "\n",
    "            # Pass through GLU activation function\n",
    "            # conved[batch_size x hid_dim x trg_len]\n",
    "            conved = F.glu(conved, dim = 1)\n",
    "            \n",
    "            # Calculate attention\n",
    "            # attention[batch_size x trg_len x src_len]\n",
    "            # conved[batch_size x hid_dim x trg_len]\n",
    "            attention, conved = self.calculate_attention(embedded, conved, encoder_conved, encoder_combined)\n",
    "            \n",
    "            # Apply residual connection\n",
    "            # conved[batch_size x hid_dim x trg_len]\n",
    "            conved = (conved + conv_input) * self.scale\n",
    "            \n",
    "            # Set conv_input to conved for next loop iteration\n",
    "            conv_input = conved\n",
    "        \n",
    "        # Permute and convert back to emb dim\n",
    "        # conved[batch_size x trg_len x emb_dim]\n",
    "        conved = self.hid2emb(conved.permute(0, 2, 1))\n",
    "        \n",
    "        # output[batch_size x trg_len x output_dim]\n",
    "        output = self.fc_out(self.dropout(conved))\n",
    "        \n",
    "        return output, attention"
   ]
  },
  {
   "cell_type": "code",
   "execution_count": 18,
   "metadata": {
    "code_folding": [
     0
    ],
    "hidden": true
   },
   "outputs": [],
   "source": [
    "class Seq2Seq(torch.nn.Module) :\n",
    "    def __init__(self, encoder, decoder) :\n",
    "        super().__init__()\n",
    "        \n",
    "        self.encoder = encoder\n",
    "        self.decoder = decoder\n",
    "    \n",
    "    \n",
    "    def forward(self, src, trg) :\n",
    "        # src[batch_size x src_len]\n",
    "        # trg[batch_size x trg_len - 1] (token sliced off the end)\n",
    "        \n",
    "        # Calculate z^u (encoder_conved) and (z^u + e) (encoder_combined)\n",
    "        # encoder_conved is output from final encoder conv. block\n",
    "        # encoder_combined is elementwise encoder_conved + src embedding + positional embeddings\n",
    "        # encoder_conved[batch_size x src_len x emb_dim]\n",
    "        # encoder_combined[batch_size x src_len x emb_dim]\n",
    "        encoder_conved, encoder_combined = self.encoder(src)\n",
    "        \n",
    "        # Calculate predictions of next words\n",
    "        # output is a batch of predictions for each word in the trg sentence\n",
    "        # attention a batch of attention scores across the src sentence for \n",
    "        # each word in the trg sentence\n",
    "        # output[batch_size x trg_len - 1 x output_dim]\n",
    "        # attention[batch_size x trg_len - 1 x src_len]\n",
    "        output, attention = self.decoder(trg, encoder_conved, encoder_combined)\n",
    "        \n",
    "        return output, attention"
   ]
  },
  {
   "cell_type": "code",
   "execution_count": 19,
   "metadata": {
    "hidden": true
   },
   "outputs": [
    {
     "data": {
      "text/plain": [
       "device(type='cuda')"
      ]
     },
     "execution_count": 19,
     "metadata": {},
     "output_type": "execute_result"
    }
   ],
   "source": [
    "device = torch.device(\"cuda\" if torch.cuda.is_available() else \"cpu\")\n",
    "device"
   ]
  },
  {
   "cell_type": "code",
   "execution_count": 20,
   "metadata": {
    "hidden": true
   },
   "outputs": [],
   "source": [
    "enc = Encoder(INPUT_DIM, EMB_DIM, HID_DIM, ENC_LAYERS, ENC_KERNEL_SIZE, ENC_DROPOUT, device)\n",
    "dec = Decoder(OUTPUT_DIM, EMB_DIM, HID_DIM, DEC_LAYERS, DEC_KERNEL_SIZE, DEC_DROPOUT, TRG_PAD_IDX, device)\n",
    "\n",
    "model = Seq2Seq(enc, dec).to(device)"
   ]
  },
  {
   "cell_type": "code",
   "execution_count": 21,
   "metadata": {
    "hidden": true
   },
   "outputs": [
    {
     "name": "stdout",
     "output_type": "stream",
     "text": [
      "The model has 44,991,510 trainable parameters\n"
     ]
    }
   ],
   "source": [
    "def count_parameters(model) :\n",
    "    return sum(p.numel() for p in model.parameters() if p.requires_grad)\n",
    "\n",
    "print(f'The model has {count_parameters(model):,} trainable parameters')"
   ]
  },
  {
   "cell_type": "markdown",
   "metadata": {
    "heading_collapsed": true
   },
   "source": [
    "##### 7.2.2.6 Entraînement"
   ]
  },
  {
   "cell_type": "code",
   "execution_count": 22,
   "metadata": {
    "hidden": true
   },
   "outputs": [],
   "source": [
    "from torchtext.legacy.data import BucketIterator\n",
    "\n",
    "BATCH_SIZE = 128\n",
    "\n",
    "train_iterator, valid_iterator = BucketIterator.splits(\n",
    "    (train_data, valid_data), \n",
    "    batch_size = BATCH_SIZE,\n",
    "    device = device,\n",
    "    sort = False)"
   ]
  },
  {
   "cell_type": "code",
   "execution_count": 23,
   "metadata": {
    "hidden": true
   },
   "outputs": [],
   "source": [
    "optimizer = torch.optim.Adam(model.parameters())\n",
    "\n",
    "criterion = torch.nn.CrossEntropyLoss(ignore_index = TRG_PAD_IDX)"
   ]
  },
  {
   "cell_type": "code",
   "execution_count": 24,
   "metadata": {
    "hidden": true
   },
   "outputs": [],
   "source": [
    "from tqdm import tqdm\n",
    "\n",
    "def training(model, iterator, optimizer, criterion, clip) :\n",
    "    model.train()\n",
    "    \n",
    "    epoch_loss = 0\n",
    "    \n",
    "    for i, batch in enumerate(tqdm(iterator)) :\n",
    "        # src[batch_size x src_len]\n",
    "        # trg[batch_size x trg_len]\n",
    "        src = batch.english\n",
    "        trg = batch.sparql\n",
    "        \n",
    "        optimizer.zero_grad()\n",
    "        \n",
    "        # output[batch_size x trg_len - 1 x output_dim]\n",
    "        output, _ = model(src, trg[:,:-1])\n",
    "        \n",
    "        output_dim = output.shape[-1]\n",
    "        \n",
    "        # trg[batch_size x trg_len - 1]\n",
    "        # output[batch_size x trg_len - 1 x output_dim]\n",
    "        trg = trg[:,1:].contiguous().view(-1)\n",
    "        output = output.contiguous().view(-1, output_dim)\n",
    "        \n",
    "        loss = criterion(output, trg)\n",
    "        \n",
    "        loss.backward()\n",
    "        \n",
    "        torch.nn.utils.clip_grad_norm_(model.parameters(), clip)\n",
    "        \n",
    "        optimizer.step()\n",
    "        \n",
    "        epoch_loss += loss.item()\n",
    "        \n",
    "    return epoch_loss / len(iterator)"
   ]
  },
  {
   "cell_type": "code",
   "execution_count": 25,
   "metadata": {
    "hidden": true
   },
   "outputs": [],
   "source": [
    "def evaluate(model, iterator, criterion) :\n",
    "    model.eval()\n",
    "    \n",
    "    epoch_loss = 0\n",
    "    \n",
    "    with torch.no_grad() :\n",
    "        for i, batch in enumerate(tqdm(iterator)) :\n",
    "            # src[batch_size x src_len]\n",
    "            # trg[batch_size x trg_len]\n",
    "            src = batch.english\n",
    "            trg = batch.sparql\n",
    "            \n",
    "            # output[batch_size x trg_len - 1 x output_dim]\n",
    "            output, _ = model(src, trg[:,:-1])\n",
    "            \n",
    "            output_dim = output.shape[-1]\n",
    "            \n",
    "            # trg[batch_size x trg_len - 1]\n",
    "            # output[batch_size x trg_len - 1 x output_dim]\n",
    "            trg = trg[:,1:].contiguous().view(-1)\n",
    "            output = output.contiguous().view(-1, output_dim)\n",
    "            \n",
    "            loss = criterion(output, trg)\n",
    "            \n",
    "            epoch_loss += loss.item()\n",
    "        \n",
    "    return epoch_loss / len(iterator)"
   ]
  },
  {
   "cell_type": "code",
   "execution_count": 26,
   "metadata": {
    "hidden": true
   },
   "outputs": [],
   "source": [
    "def epoch_time(start_time, end_time) :\n",
    "    elapsed_time = end_time - start_time\n",
    "    elapsed_mins = elapsed_time // 60\n",
    "    elapsed_secs = elapsed_time % 60\n",
    "    return int(elapsed_mins), int(elapsed_secs)"
   ]
  },
  {
   "cell_type": "code",
   "execution_count": 27,
   "metadata": {
    "hidden": true
   },
   "outputs": [
    {
     "name": "stderr",
     "output_type": "stream",
     "text": [
      "100%|██████████| 32/32 [00:05<00:00,  5.43it/s]\n",
      "100%|██████████| 4/4 [00:00<00:00, 21.84it/s]\n"
     ]
    },
    {
     "name": "stdout",
     "output_type": "stream",
     "text": [
      "Epoch : 01 | Time: 0 min 06 s\n",
      "\tTrain  Loss : 0.878 | Train  PPL:   2.405\n",
      "\tValid. Loss : 0.232 | Valid. PPL:   1.261\n"
     ]
    },
    {
     "name": "stderr",
     "output_type": "stream",
     "text": [
      "100%|██████████| 32/32 [00:04<00:00,  7.98it/s]\n",
      "100%|██████████| 4/4 [00:00<00:00, 22.45it/s]\n"
     ]
    },
    {
     "name": "stdout",
     "output_type": "stream",
     "text": [
      "Epoch : 02 | Time: 0 min 04 s\n",
      "\tTrain  Loss : 0.174 | Train  PPL:   1.190\n",
      "\tValid. Loss : 0.103 | Valid. PPL:   1.108\n"
     ]
    },
    {
     "name": "stderr",
     "output_type": "stream",
     "text": [
      "100%|██████████| 32/32 [00:03<00:00,  8.10it/s]\n",
      "100%|██████████| 4/4 [00:00<00:00, 22.33it/s]\n"
     ]
    },
    {
     "name": "stdout",
     "output_type": "stream",
     "text": [
      "Epoch : 03 | Time: 0 min 04 s\n",
      "\tTrain  Loss : 0.114 | Train  PPL:   1.121\n",
      "\tValid. Loss : 0.076 | Valid. PPL:   1.079\n"
     ]
    },
    {
     "name": "stderr",
     "output_type": "stream",
     "text": [
      "100%|██████████| 32/32 [00:03<00:00,  8.13it/s]\n",
      "100%|██████████| 4/4 [00:00<00:00, 22.58it/s]\n"
     ]
    },
    {
     "name": "stdout",
     "output_type": "stream",
     "text": [
      "Epoch : 04 | Time: 0 min 04 s\n",
      "\tTrain  Loss : 0.138 | Train  PPL:   1.148\n",
      "\tValid. Loss : 0.081 | Valid. PPL:   1.085\n"
     ]
    },
    {
     "name": "stderr",
     "output_type": "stream",
     "text": [
      "100%|██████████| 32/32 [00:03<00:00,  8.09it/s]\n",
      "100%|██████████| 4/4 [00:00<00:00, 21.96it/s]\n"
     ]
    },
    {
     "name": "stdout",
     "output_type": "stream",
     "text": [
      "Epoch : 05 | Time: 0 min 04 s\n",
      "\tTrain  Loss : 0.179 | Train  PPL:   1.196\n",
      "\tValid. Loss : 0.103 | Valid. PPL:   1.108\n"
     ]
    },
    {
     "name": "stderr",
     "output_type": "stream",
     "text": [
      "100%|██████████| 32/32 [00:03<00:00,  8.06it/s]\n",
      "100%|██████████| 4/4 [00:00<00:00, 21.49it/s]\n"
     ]
    },
    {
     "name": "stdout",
     "output_type": "stream",
     "text": [
      "Epoch : 06 | Time: 0 min 04 s\n",
      "\tTrain  Loss : 0.140 | Train  PPL:   1.150\n",
      "\tValid. Loss : 0.058 | Valid. PPL:   1.060\n"
     ]
    },
    {
     "name": "stderr",
     "output_type": "stream",
     "text": [
      "100%|██████████| 32/32 [00:03<00:00,  8.02it/s]\n",
      "100%|██████████| 4/4 [00:00<00:00, 21.84it/s]\n"
     ]
    },
    {
     "name": "stdout",
     "output_type": "stream",
     "text": [
      "Epoch : 07 | Time: 0 min 04 s\n",
      "\tTrain  Loss : 0.181 | Train  PPL:   1.199\n",
      "\tValid. Loss : 0.064 | Valid. PPL:   1.066\n"
     ]
    },
    {
     "name": "stderr",
     "output_type": "stream",
     "text": [
      "100%|██████████| 32/32 [00:03<00:00,  8.10it/s]\n",
      "100%|██████████| 4/4 [00:00<00:00, 22.33it/s]\n"
     ]
    },
    {
     "name": "stdout",
     "output_type": "stream",
     "text": [
      "Epoch : 08 | Time: 0 min 04 s\n",
      "\tTrain  Loss : 0.101 | Train  PPL:   1.107\n",
      "\tValid. Loss : 0.053 | Valid. PPL:   1.054\n"
     ]
    },
    {
     "name": "stderr",
     "output_type": "stream",
     "text": [
      "100%|██████████| 32/32 [00:03<00:00,  8.10it/s]\n",
      "100%|██████████| 4/4 [00:00<00:00, 22.33it/s]\n"
     ]
    },
    {
     "name": "stdout",
     "output_type": "stream",
     "text": [
      "Epoch : 09 | Time: 0 min 04 s\n",
      "\tTrain  Loss : 0.091 | Train  PPL:   1.095\n",
      "\tValid. Loss : 0.089 | Valid. PPL:   1.093\n"
     ]
    },
    {
     "name": "stderr",
     "output_type": "stream",
     "text": [
      "100%|██████████| 32/32 [00:03<00:00,  8.08it/s]\n",
      "100%|██████████| 4/4 [00:00<00:00, 22.20it/s]"
     ]
    },
    {
     "name": "stdout",
     "output_type": "stream",
     "text": [
      "Epoch : 10 | Time: 0 min 04 s\n",
      "\tTrain  Loss : 0.155 | Train  PPL:   1.167\n",
      "\tValid. Loss : 0.137 | Valid. PPL:   1.147\n"
     ]
    },
    {
     "name": "stderr",
     "output_type": "stream",
     "text": [
      "\n"
     ]
    }
   ],
   "source": [
    "import math\n",
    "import time\n",
    "\n",
    "N_EPOCHS = 10\n",
    "CLIP = 0.1\n",
    "\n",
    "best_valid_loss = float('inf')\n",
    "\n",
    "train_loss = []\n",
    "valid_loss = []\n",
    "\n",
    "for epoch in range(N_EPOCHS) :\n",
    "    start_time = time.time()\n",
    "    \n",
    "    train_loss += [training(model, train_iterator, optimizer, criterion, CLIP)]\n",
    "    valid_loss += [evaluate(model, valid_iterator, criterion)]\n",
    "    \n",
    "    end_time = time.time()\n",
    "    \n",
    "    epoch_mins, epoch_secs = epoch_time(start_time, end_time)\n",
    "    \n",
    "    if(valid_loss[-1] < best_valid_loss) :\n",
    "        best_valid_loss = valid_loss[-1]\n",
    "        torch.save(model.state_dict(), f\"{PATH}/model-1.pt\")\n",
    "    \n",
    "    print(f'Epoch : {(epoch + 1):02} | Time: {epoch_mins} min {epoch_secs:02} s')\n",
    "    print(f'\\tTrain  Loss : {train_loss[-1]:.3f} | Train  PPL: {math.exp(train_loss[-1]):7.3f}')\n",
    "    print(f'\\tValid. Loss : {valid_loss[-1]:.3f} | Valid. PPL: {math.exp(valid_loss[-1]):7.3f}')"
   ]
  },
  {
   "cell_type": "markdown",
   "metadata": {
    "heading_collapsed": true
   },
   "source": [
    "##### 7.2.2.7 Tests et visualisation"
   ]
  },
  {
   "cell_type": "code",
   "execution_count": 29,
   "metadata": {
    "hidden": true
   },
   "outputs": [],
   "source": [
    "from collections import Counter\n",
    "\n",
    "var_pattern = re.compile(\"<var_\\d>\")\n",
    "type_pattern = re.compile(\"<rdf_\\d>\")\n",
    "\n",
    "var_list = []\n",
    "type_list = []\n",
    "\n",
    "for i in range(len(lookup)) :\n",
    "    for key in train[\"lookup\"].iloc[i].keys() :\n",
    "        if(re.search(var_pattern, key)) :\n",
    "            var_list += [key + \":\" + train[\"lookup\"].iloc[i][key]]\n",
    "        if(re.search(type_pattern, key)) :\n",
    "            type_list += [key + \":\" + train[\"lookup\"].iloc[i][key]]\n",
    "\n",
    "var_counter = [tup[0].split(\":\", 1) for tup in Counter(var_list).most_common()]\n",
    "type_counter = [tup[0].split(\":\", 1) for tup in Counter(type_list).most_common()]\n",
    "\n",
    "keys = [x[0] for x in var_counter + type_counter]\n",
    "count = [x[1] for x in var_counter + type_counter]\n",
    "\n",
    "SPARQL_var_type_tokens = {}\n",
    "for key in list(set(keys)):\n",
    "    SPARQL_var_type_tokens[key] = count[keys.index(key)]"
   ]
  },
  {
   "cell_type": "code",
   "execution_count": 30,
   "metadata": {
    "hidden": true
   },
   "outputs": [],
   "source": [
    "def postprocess(token_list, lookup) :\n",
    "    output = \"\"\n",
    "    \n",
    "    isOperator = False\n",
    "    for i, token in enumerate(token_list) :\n",
    "        text = \"\"\n",
    "        if(not text and token in SPARQL_translation_dict) :\n",
    "            text = SPARQL_translation_dict[token]\n",
    "        if(not text and token in lookup) :\n",
    "            text = lookup[token]\n",
    "        if(not text and token in SPARQL_var_type_tokens) :\n",
    "            text = SPARQL_var_type_tokens[token]\n",
    "        \n",
    "        if(isOperator) :\n",
    "            output += f\" ( {text} )\"\n",
    "        else :\n",
    "            output += f\" {text}\"\n",
    "        \n",
    "        if(token in SPARQL_operators) :\n",
    "            isOperator = True\n",
    "        else :\n",
    "            isOperator = False\n",
    "    \n",
    "    return re.sub(\"[ ]+\", \" \", output).strip()"
   ]
  },
  {
   "cell_type": "code",
   "execution_count": 31,
   "metadata": {
    "hidden": true
   },
   "outputs": [],
   "source": [
    "def postprocessDataframeCol(df_input, col) :\n",
    "    df = df_input[col].copy(deep = True)\n",
    "    \n",
    "    for i in range(len(df_input)) :\n",
    "        df.iloc[i] = postprocess(df.iloc[i], df_input[\"lookup\"].iloc[i])\n",
    "    \n",
    "    return df"
   ]
  },
  {
   "cell_type": "code",
   "execution_count": 32,
   "metadata": {
    "hidden": true
   },
   "outputs": [
    {
     "data": {
      "text/plain": [
       "<All keys matched successfully>"
      ]
     },
     "execution_count": 32,
     "metadata": {},
     "output_type": "execute_result"
    }
   ],
   "source": [
    "# Load best model\n",
    "MODEL_PATH = f\"{PATH}/model-1.pt\"\n",
    "model.load_state_dict(torch.load(MODEL_PATH))"
   ]
  },
  {
   "cell_type": "code",
   "execution_count": 33,
   "metadata": {
    "hidden": true
   },
   "outputs": [],
   "source": [
    "def translate_sentence(tokens, src_field, trg_field, model, device, max_len = 50) :\n",
    "    model.eval()\n",
    "    \n",
    "    tokens = [src_field.init_token] + tokens + [src_field.eos_token]\n",
    "    \n",
    "    src_indexes = [src_field.vocab.stoi[token] for token in tokens]\n",
    "    src_tensor = torch.LongTensor(src_indexes).unsqueeze(0).to(device)\n",
    "    \n",
    "    with torch.no_grad() :\n",
    "        encoder_conved, encoder_combined = model.encoder(src_tensor)\n",
    "    \n",
    "    trg_indexes = [trg_field.vocab.stoi[trg_field.init_token]]\n",
    "    \n",
    "    for i in range(max_len) :\n",
    "        trg_tensor = torch.LongTensor(trg_indexes).unsqueeze(0).to(device)\n",
    "        \n",
    "        with torch.no_grad() :\n",
    "            output, attention = model.decoder(trg_tensor, encoder_conved, encoder_combined)\n",
    "        \n",
    "        pred_token = output.argmax(2)[:,-1].item()\n",
    "        \n",
    "        trg_indexes.append(pred_token)\n",
    "        \n",
    "        if(pred_token == trg_field.vocab.stoi[trg_field.eos_token]) :\n",
    "            break\n",
    "    \n",
    "    trg_tokens = [trg_field.vocab.itos[i] for i in trg_indexes]\n",
    "    \n",
    "    return trg_tokens[1:-1], attention"
   ]
  },
  {
   "cell_type": "code",
   "execution_count": 34,
   "metadata": {
    "hidden": true
   },
   "outputs": [],
   "source": [
    "import matplotlib.pyplot as plt\n",
    "import matplotlib.ticker as ticker\n",
    "\n",
    "def display_attention(sentence, translation, attention) :\n",
    "    fig = plt.figure(figsize = (10,10))\n",
    "    ax = fig.add_subplot(111)\n",
    "    \n",
    "    attention = attention.squeeze(0).cpu().detach().numpy()\n",
    "    \n",
    "    ax = ax.matshow(attention, cmap = \"bone\")\n",
    "    \n",
    "    ax.tick_params(labelsize = 15)\n",
    "    ax.set_xticklabels([''] + [''] + [t.lower() for t in sentence] + [''], rotation = 45)\n",
    "    ax.set_yticklabels([''] + translation)\n",
    "    \n",
    "    ax.xaxis.set_major_locator(ticker.MultipleLocator(1))\n",
    "    ax.yaxis.set_major_locator(ticker.MultipleLocator(1))\n",
    "    \n",
    "    plt.show()\n",
    "    plt.close()"
   ]
  },
  {
   "cell_type": "code",
   "execution_count": 35,
   "metadata": {
    "hidden": true
   },
   "outputs": [
    {
     "name": "stdout",
     "output_type": "stream",
     "text": [
      "src = what is the dbo:religion of the dbo:PoliticalParty whose dbp:international is dbr:Muslim_Brotherhood ?\n",
      "trg = select distinct ?uri where { ?x dbp:international dbr:Muslim_Brotherhood . ?x dbo:religion ?uri . ?x rdf:type dbo:PoliticalParty }\n",
      "['what', 'is', 'the', '<dbo_1>', 'of', 'the', '<dbo_0>', 'whose', '<dbp_0>', 'is', '<dbr_0>']\n",
      "['<select>', '<distinct>', '<var_1>', '<where>', '<openbracket>', '<var_0>', '<dbp_0>', '<dbr_0>', '<sepdot>', '<var_0>', '<dbo_1>', '<var_1>', '<sepdot>', '<var_0>', '<rdf_0>', '<dbo_0>', '<closebracket>']\n"
     ]
    }
   ],
   "source": [
    "example_idx = 0\n",
    "src = valid[\"english\"][example_idx]\n",
    "trg = valid[\"sparql\"][example_idx]\n",
    "\n",
    "print(f\"src = {src}\")\n",
    "print(f\"trg = {trg}\")\n",
    "\n",
    "preprocessed_src = valid[\"tokens\"][example_idx]\n",
    "preprocessed_trg = valid[\"request\"][example_idx]\n",
    "\n",
    "print(preprocessed_src)\n",
    "print(preprocessed_trg)"
   ]
  },
  {
   "cell_type": "code",
   "execution_count": 36,
   "metadata": {
    "hidden": true
   },
   "outputs": [
    {
     "name": "stdout",
     "output_type": "stream",
     "text": [
      "Predicted target : select distinct ?uri where { ?x dbp:international dbr:Muslim_Brotherhood . ?x dbo:religion ?uri . ?x rdf:type dbo:PoliticalParty }\n",
      "Target sentence  : select distinct ?uri where { ?x dbp:international dbr:Muslim_Brotherhood . ?x dbo:religion ?uri . ?x rdf:type dbo:PoliticalParty }\n"
     ]
    }
   ],
   "source": [
    "translation, attention = translate_sentence(preprocessed_src, SRC, TRG, model, device)\n",
    "\n",
    "print(f'Predicted target : {postprocess(translation, valid[\"lookup\"][example_idx])}')\n",
    "print(f'Target sentence  : {postprocess(preprocessed_trg, valid[\"lookup\"][example_idx])}')"
   ]
  },
  {
   "cell_type": "markdown",
   "metadata": {
    "id": "4efVu3eTTnqd"
   },
   "source": [
    "#### 7.2.3. Évaluation (10%)"
   ]
  },
  {
   "cell_type": "markdown",
   "metadata": {},
   "source": [
    "Afficher les résultats de votre modèle sur l’ensemble de validation au moyen de la métrique de précision globale et de la métrique BLEU,.\n",
    "\n",
    "Générez, le fichier _tp4_submission.csv_ qui contient les questions de test et leurs requêtes SPARQL."
   ]
  },
  {
   "cell_type": "markdown",
   "metadata": {
    "heading_collapsed": true
   },
   "source": [
    "##### 7.2.3.1 Courbes de perte"
   ]
  },
  {
   "cell_type": "code",
   "execution_count": 37,
   "metadata": {
    "hidden": true
   },
   "outputs": [
    {
     "data": {
      "image/png": "[encoded data removed]",
      "text/plain": [
       "<Figure size 640x480 with 1 Axes>"
      ]
     },
     "metadata": {},
     "output_type": "display_data"
    }
   ],
   "source": [
    "epochs = [x + 1 for x in range(len(train_loss))]\n",
    "plt.plot(epochs, train_loss, color = \"blue\")\n",
    "plt.plot(epochs, valid_loss, color = \"orange\")\n",
    "\n",
    "plt.title(\"Training and validation loss with respect to epochs\")\n",
    "\n",
    "plt.xlabel(\"Epochs\")\n",
    "plt.ylabel(\"Loss\")\n",
    "\n",
    "plt.legend([\"Train\", \"Valid.\"])\n",
    "\n",
    "plt.show()"
   ]
  },
  {
   "cell_type": "markdown",
   "metadata": {
    "heading_collapsed": true
   },
   "source": [
    "##### 7.2.3.2 Mesure"
   ]
  },
  {
   "cell_type": "code",
   "execution_count": 38,
   "metadata": {
    "hidden": true
   },
   "outputs": [],
   "source": [
    "from torchtext.data.metrics import bleu_score\n",
    "\n",
    "\"\"\"\n",
    "    : @param predictions :\n",
    "    : @param targets     :\n",
    "    : @return BLEU       :\n",
    "entrées:\n",
    "       - predictions: Liste des prédicitons du modèle pour l'ensemble de validation. Chaque prédiction est une liste de jetons textuels.\n",
    "       - targets: Liste des requêtes attendues de l'ensemble de validation. Chaque requête est une liste de jetons textuels.\n",
    "    sortie: \n",
    "       Le score bleu moyen de vos prédictions comparées aux requêtes attendues.\n",
    "\"\"\"\n",
    "\n",
    "def compute_bleu(predictions, targets) :\n",
    "    return bleu_score(predictions, [[tokens] for tokens in targets])"
   ]
  },
  {
   "cell_type": "code",
   "execution_count": 39,
   "metadata": {
    "hidden": true
   },
   "outputs": [
    {
     "name": "stderr",
     "output_type": "stream",
     "text": [
      "100%|██████████| 500/500 [01:18<00:00,  6.38it/s]\n"
     ]
    }
   ],
   "source": [
    "predicted_tokens = []\n",
    "\n",
    "for i, tokens in enumerate(tqdm(valid[\"tokens\"])) :\n",
    "    lookup = valid[\"lookup\"].iloc[i]\n",
    "    translation, attention = translate_sentence(tokens, SRC, TRG, model, device)\n",
    "    translation = postprocess(translation, lookup)\n",
    "    predicted_tokens.append(translation.split())"
   ]
  },
  {
   "cell_type": "code",
   "execution_count": 40,
   "metadata": {
    "hidden": true
   },
   "outputs": [
    {
     "name": "stdout",
     "output_type": "stream",
     "text": [
      "['select', 'distinct', '?uri', 'where', '{', '?x', 'dbp:international', 'dbr:Muslim_Brotherhood', '.', '?x', 'dbo:religion', '?uri', '.', '?x', 'rdf:type', 'dbo:PoliticalParty', '}']\n",
      "['select', 'distinct', '?uri', 'where', '{', '?x', 'dbp:international', 'dbr:Muslim_Brotherhood', '.', '?x', 'dbo:religion', '?uri', '.', '?x', 'rdf:type', 'dbo:PoliticalParty', '}']\n",
      "\n",
      "['select', 'distinct', '?uri', 'where', '{', 'dbr:Sam_Loyd', 'dbo:knownFor', '?uri', '.', 'dbr:Eric_Schiller', 'dbo:knownFor', '?uri', '.', '}']\n",
      "['select', 'distinct', '?uri', 'where', '{', 'dbr:Sam_Loyd', 'dbo:knownFor', '?uri', '.', 'dbr:Eric_Schiller', 'dbo:knownFor', '?uri', '.', '}']\n",
      "\n",
      "['select', 'distinct', '?uri', 'where', '{', 'dbr:Joe_Pass', 'dbo:associatedBand', '?uri', '.', 'dbr:Dream_Dancing_(album)', 'dbp:artist', '?uri', '}']\n",
      "['select', 'distinct', '?uri', 'where', '{', 'dbr:Joe_Pass', 'dbo:associatedBand', '?uri', '.', 'dbr:Dream_Dancing_(album)', 'dbp:artist', '?uri', '.', '}']\n",
      "\n",
      "['select', 'distinct', '?uri', 'where', '{', 'dbr:Focke-Wulf_Fw_260', 'dbp:nationalOrigin', '?uri', '.', 'dbr:Start_+_Flug_H-101', 'dbp:nationalOrigin', '?uri', '.', '}']\n",
      "['select', 'distinct', '?uri', 'where', '{', 'dbr:Focke-Wulf_Fw_260', 'dbp:nationalOrigin', '?uri', '.', 'dbr:Start_+_Flug_H-101', 'dbp:nationalOrigin', '?uri', '.', '}']\n",
      "\n",
      "['select', 'distinct', '?uri', 'where', '{', 'dbr:Women_in_the_Garden', 'dbp:artist', '?uri', '.', \"dbr:L'Enfant_a_la_tasse\", '?uri', '.', '}']\n",
      "['select', 'distinct', '?uri', 'where', '{', 'dbr:Women_in_the_Garden', 'dbp:artist', '?uri', '.', \"dbr:L'Enfant_a_la_tasse\", 'dbp:artist', '?uri', '.', '}']\n",
      "\n"
     ]
    }
   ],
   "source": [
    "target_tokens = [x.split() for x in valid['sparql']]\n",
    "\n",
    "for i in range(5) :\n",
    "    print(predicted_tokens[i])\n",
    "    print(target_tokens[i])\n",
    "    print()"
   ]
  },
  {
   "cell_type": "code",
   "execution_count": 41,
   "metadata": {
    "hidden": true
   },
   "outputs": [
    {
     "name": "stdout",
     "output_type": "stream",
     "text": [
      "Le score BLEU est de : 0.93733\n"
     ]
    }
   ],
   "source": [
    "bleu_score = compute_bleu(predicted_tokens, target_tokens)\n",
    "print(f\"Le score BLEU est de : {bleu_score:2.5f}\")"
   ]
  },
  {
   "cell_type": "code",
   "execution_count": 42,
   "metadata": {
    "hidden": true
   },
   "outputs": [
    {
     "name": "stdout",
     "output_type": "stream",
     "text": [
      "La précision globale est de : 0.77600\n",
      "Exemple: \n",
      "ID: 432\n",
      "Gold       : select distinct ?uri where { ?x dbp:sisterStations dbr:Al_Arabiya_99 . ?x dbp:location ?uri . ?x rdf:type dbo:RadioStation }\n",
      "Prediction : select distinct ?uri where { ?x dbp:sisterStations dbr:Al_Arabiya_99 . ?x dbp:location ?uri . ?x rdf:type dbo:RadioStation }\n"
     ]
    }
   ],
   "source": [
    "from sklearn.metrics import accuracy_score\n",
    "\n",
    "text_predictions = [\" \".join(tokens) for tokens in predicted_tokens]\n",
    "text_targets = valid[\"sparql\"].tolist()\n",
    "\n",
    "accuracy = accuracy_score(text_targets, text_predictions)\n",
    "print(f\"La précision globale est de : {accuracy:2.5f}\")\n",
    "\n",
    "example_id = random.randint(0, len(text_predictions))\n",
    "print(\"Exemple: \")\n",
    "print(f\"ID: {example_id}\")\n",
    "print(f\"Gold       : {text_targets[example_id]}\")\n",
    "print(f\"Prediction : {text_predictions[example_id]}\")"
   ]
  },
  {
   "cell_type": "markdown",
   "metadata": {
    "heading_collapsed": true
   },
   "source": [
    "##### 7.2.3.3 Soumission"
   ]
  },
  {
   "cell_type": "code",
   "execution_count": 43,
   "metadata": {
    "hidden": true
   },
   "outputs": [
    {
     "name": "stderr",
     "output_type": "stream",
     "text": [
      "100%|██████████| 500/500 [01:16<00:00,  6.51it/s]\n"
     ]
    }
   ],
   "source": [
    "submissions = []\n",
    "\n",
    "for i, tokens in enumerate(tqdm(test[\"tokens\"])) :\n",
    "    lookup = test[\"lookup\"].iloc[i]\n",
    "    translation, attention = translate_sentence(tokens, SRC, TRG, model, device)\n",
    "    translation = postprocess(translation, lookup)\n",
    "    submissions.append(translation)"
   ]
  },
  {
   "cell_type": "code",
   "execution_count": 44,
   "metadata": {
    "hidden": true
   },
   "outputs": [],
   "source": [
    "import csv\n",
    "\n",
    "def write_submissions_to_csv(file_path, submissions) :\n",
    "    file = open(file_path, \"w\", encoding = \"utf-8\", newline = \"\")\n",
    "    \n",
    "\n",
    "    writer = csv.writer(file)\n",
    "    header = ['id', 'translation']\n",
    "    writer.writerow(header)\n",
    "\n",
    "    for id, submission in enumerate(submissions):\n",
    "        row = [id, submission]\n",
    "        writer.writerow(row)\n",
    "\n",
    "    file.close()\n",
    "\n",
    "write_submissions_to_csv(f\"{PATH}/tp4_submission.csv\", submissions)"
   ]
  },
  {
   "cell_type": "markdown",
   "metadata": {
    "id": "RTmKvWFL2hqA"
   },
   "source": [
    "### 7.3. Approche(s) avancée(s) (30%)"
   ]
  },
  {
   "cell_type": "markdown",
   "metadata": {},
   "source": [
    "Reprenez les étapes de la partie précédente avec une ou plusieurs nouvelle(s) architecture(s) plus complexe(s), ou améliorant votre précédente architecture, afin d’obtenir un score plus élevé sur l’ensemble de validation et dans la compétition Kaggle. Démontrez bien cette amélioration dans votre notebook."
   ]
  },
  {
   "cell_type": "markdown",
   "metadata": {
    "heading_collapsed": true
   },
   "source": [
    "#### 7.3.1. Rechargement des données brutes"
   ]
  },
  {
   "cell_type": "code",
   "execution_count": 45,
   "metadata": {
    "hidden": true
   },
   "outputs": [],
   "source": [
    "# Chargement des fichiers d'entraînement et de tests.\n",
    "train = pandas.read_csv(PATH + \"train.csv\")\n",
    "valid = pandas.read_csv(PATH + \"validation.csv\")\n",
    "test = pandas.read_csv(PATH + \"test.csv\")"
   ]
  },
  {
   "cell_type": "markdown",
   "metadata": {
    "heading_collapsed": true
   },
   "source": [
    "#### 7.3.2. Importation de modèles pré-entraînés"
   ]
  },
  {
   "cell_type": "code",
   "execution_count": 46,
   "metadata": {
    "code_folding": [
     0
    ],
    "hidden": true
   },
   "outputs": [],
   "source": [
    "%%capture\n",
    "\n",
    "from transformers import AutoTokenizer, AutoModelForSeq2SeqLM\n",
    "\n",
    "tokenizer = AutoTokenizer.from_pretrained('t5-base', model_max_length = 512)\n",
    "model = AutoModelForSeq2SeqLM.from_pretrained('t5-base')"
   ]
  },
  {
   "cell_type": "markdown",
   "metadata": {},
   "source": [
    "#### 7.3.3. Pré-traitement"
   ]
  },
  {
   "cell_type": "code",
   "execution_count": 51,
   "metadata": {
    "code_folding": []
   },
   "outputs": [],
   "source": [
    "# Expressions that are similar in sense can be replaced by a single token\n",
    "# N.B. Expressions have been hand selected due to time constraints but\n",
    "# semantic analysis could be performed and would be preferable on more\n",
    "# complicated datasets\n",
    "expressions = {\n",
    "    \"count the \" : \"<how_many> \",\n",
    "    \"give me a count of \" : \"<how_many> \",\n",
    "    \"give me the total of \" : \"<how_many> \",\n",
    "    \"how many \" : \"<how_many> \",\n",
    "    \"what is the number of \" : \"<how_many> \",\n",
    "    \"what is the total number of \" : \"<how_many> \",\n",
    "    \"list the \" : \"<list> \",\n",
    "    \"what are \" : \"<what> \",\n",
    "    \"what is \" : \"<what> \",\n",
    "    \"who are the \" : \"<who> \",\n",
    "    \"who is the \" : \"<who> \"\n",
    "}"
   ]
  },
  {
   "cell_type": "code",
   "execution_count": 52,
   "metadata": {},
   "outputs": [],
   "source": [
    "\"\"\"\n",
    "    Fonction qui transforme un dataframe de chaînes de caractères en liste de\n",
    "    jetons.\n",
    "    \n",
    "    Les étapes de pré-traitement à compléter sont les suivantes :\n",
    "    1. Enlever les majuscules\n",
    "    2. Enlever les caractères de ponctuations\n",
    "    3. Séparer la chaine de caractères en une liste de jetons (tokenization) \n",
    "    4. Enlever les stopwords\n",
    "    5. Stemming (racinisation)\n",
    "    \n",
    "    : @param df_input          : Le Dataframe à traiter\n",
    "    : @param cols              : Liste de strings contenant les noms des colonnes à traiter\n",
    "    : @param removeStopwords   : Si les stopwords doivent être retirés\n",
    "    : @param stemming          : Si la racinisation doit être appliquée\n",
    "    : @param charPunctuation   : Si la ponctuation attendue d'une requête SPARQL\n",
    "                                 doit être convertie en tokens textuels\n",
    "    : @param keywordReplace    : Si les mots clés d'une requête SPARQL doivent\n",
    "                                 être convertis en tokens textuels\n",
    "    : @param expressionReplace : Si les expressions doivent être converties\n",
    "                                 en tokens symboliques\n",
    "    : @return df               : Dataframe contenant les listes de jetons pré-traités\n",
    "    : @return lookup           : Dictionnaires de traduction des tokens protégés\n",
    "\"\"\"\n",
    "def prepocessDataframeCols(df_input, cols, removeStopwords = False, stemming = False, charPunctuation = False,\n",
    "                           keywordReplace = False, expressionReplace = False) :\n",
    "    df = df_input[cols].copy(deep = True)\n",
    "    \n",
    "    # Retire les symboles de ponctuation associés aux tokens SPARQL qui vont être créés\n",
    "    df = df.replace(\"[<>]\", \"\", regex = True)\n",
    "    \n",
    "    if(expressionReplace) :\n",
    "        for col in cols :\n",
    "            for exp in expressions.keys() :\n",
    "                df[col] = df[col].str.replace(exp, expressions[exp])\n",
    "    \n",
    "    df, lookup = SPARQL_tokens(df_input, cols, charPunctuation = charPunctuation, keywordReplace = keywordReplace)\n",
    "    \n",
    "    for col in cols :\n",
    "        # Retire les majuscules\n",
    "        df[col] = df[col].str.lower()\n",
    "        \n",
    "        # Retire la ponctuation en la remplaçant par des espaces et\n",
    "        # en retirant ensuite les espaces doubles\n",
    "        if(col == \"sparql\") :\n",
    "            if(charPunctuation) :\n",
    "                df[col] = df[col].str.replace(\"[^A-Za-z0-9<>_]\", \" \")\n",
    "            else :\n",
    "                df[col] = df[col].str.replace(\"[^A-Za-z0-9{}.<>_]\", \" \")\n",
    "                df[col] = df[col].str.replace(\"([{}.])\", \" \\g<1> \")\n",
    "        else :\n",
    "            df[col] = df[col].str.replace(\"[^A-Za-z0-9<>_]\", \" \")\n",
    "        \n",
    "        df[col] = df[col].str.replace(\"[ ]+\", \" \")\n",
    "        \n",
    "        # Sépare en jetons selon les espaces\n",
    "        df[col] = df[col].str.split()\n",
    "        \n",
    "        if(removeStopwords or stemming) :\n",
    "            for i in range(len(df[col])) :\n",
    "                tokens = df[col].iloc[i]\n",
    "                if(removeStopwords) :\n",
    "                    filtered_tokens = []\n",
    "                    for token in tokens :\n",
    "                        if token not in stopwords :\n",
    "                            filtered_tokens = filtered_tokens + [token]\n",
    "                    \n",
    "                    tokens = filtered_tokens\n",
    "                \n",
    "                if(stemming) :\n",
    "                    tokens = [stemmer.stem(token) for token in tokens]\n",
    "                \n",
    "                df[col].iloc[i] = tokens\n",
    "    \n",
    "    return df, lookup"
   ]
  },
  {
   "cell_type": "code",
   "execution_count": 53,
   "metadata": {},
   "outputs": [],
   "source": [
    "# On applique la fonction de prétraitement aux ensembles de données\n",
    "cols = [\"english\", \"sparql\"]\n",
    "tokens, lookup = prepocessDataframeCols(train, cols, charPunctuation = True, keywordReplace = True, expressionReplace = True)\n",
    "train[\"tokens\"] = tokens[\"english\"]\n",
    "train[\"request\"] = tokens[\"sparql\"]\n",
    "train[\"lookup\"] = lookup[\"lookup\"]\n",
    "\n",
    "joinTokens(tokens, cols).to_csv(PATH + \"train_tokens.csv\")\n",
    "\n",
    "tokens, lookup = prepocessDataframeCols(valid, cols, charPunctuation = True, expressionReplace = True)\n",
    "valid[\"tokens\"] = tokens[\"english\"]\n",
    "valid[\"request\"] = tokens[\"sparql\"]\n",
    "valid[\"lookup\"] = lookup[\"lookup\"]\n",
    "\n",
    "joinTokens(tokens, cols).to_csv(PATH + \"valid_tokens.csv\")\n",
    "\n",
    "cols = [\"english\"]\n",
    "tokens, lookup = prepocessDataframeCols(test, cols, charPunctuation = True, expressionReplace = True)\n",
    "test[\"tokens\"] = tokens[\"english\"]\n",
    "test[\"lookup\"] = lookup[\"lookup\"]\n",
    "\n",
    "joinTokens(tokens, cols).to_csv(PATH + \"test_tokens.csv\")"
   ]
  },
  {
   "cell_type": "code",
   "execution_count": null,
   "metadata": {},
   "outputs": [],
   "source": [
    "PREFIX = [\"dbr\", \"dbo\", \"dbp\", \"rdf\"]\n",
    "VAR_TOKEN = { \"dbr\": \"<DBR_\", \"dbo\": \"<DBO_\", \"dbp\": \"<DBP_\", \"rdf\": \"<RDF_\" }\n",
    "ENG_KEYWORDS = expressions\n",
    "SPARQL_KEYWORDS = SPARQL_reserved_keywords + SPARQL_punctuation + var + parentheses\n",
    "SPARQL_TO_ENG = SPARQL_translation_dict + var + parentheses\n",
    "\n",
    "VARIABLE_TOKENS = []\n",
    "SPECIAL_TOKENS = []\n",
    "\n",
    "for var_type in VAR_TOKEN.keys():\n",
    "    for i in range(5):\n",
    "        token_name = f\"{VAR_TOKEN[var_type]}{i}>\"\n",
    "        VARIABLE_TOKENS.append(token_name)\n",
    "        SPECIAL_TOKENS.append(token_name)\n",
    "\n",
    "for token_name in SPARQL_TO_ENG.keys():\n",
    "    SPECIAL_TOKENS.append(token_name)\n",
    "\n",
    "for token_name in ENG_KEYWORDS.values():\n",
    "    if token_name not in SPECIAL_TOKENS:\n",
    "        SPECIAL_TOKENS.append(token_name)"
   ]
  },
  {
   "cell_type": "code",
   "execution_count": null,
   "metadata": {},
   "outputs": [],
   "source": [
    "# Identification des variables\n",
    "def is_variable(token):\n",
    "    \"\"\"\n",
    "    Identifie les variables de type dbo:abc, dbp:aaa, ...\n",
    "    \"\"\"\n",
    "    return len(token) > 4 and (token[:3] in PREFIX and token[3] == ':')\n",
    "\n",
    "def is_token_variable(token):\n",
    "    \"\"\"\n",
    "    Identifie les variables de type <DBO_1>, <DBP_1>, ...\n",
    "    \"\"\"\n",
    "    return token in VARIABLE_TOKENS\n",
    "\n",
    "def identify_variables(tokens: list):\n",
    "    variables = { \"dbr\": [], \"dbo\": [], \"dbp\": [], \"rdf\": [] }\n",
    "\n",
    "    for i, token in enumerate(tokens):\n",
    "        if is_variable(token):\n",
    "            var_type = token[:3]\n",
    "            variables[var_type].append(token)\n",
    "\n",
    "    return variables"
   ]
  },
  {
   "cell_type": "code",
   "execution_count": null,
   "metadata": {},
   "outputs": [],
   "source": [
    "# Definition des variables de chaque texte.\n",
    "VARIABLES_DICT_TRAIN = []\n",
    "VARIABLES_DICT_VALIDATION = []\n",
    "\n",
    "def create_var_dict(var_dict, df):\n",
    "    for sentence in df['english']:\n",
    "        words = sentence.split()\n",
    "        variables = identify_variables(words)\n",
    "        var_dict.append(variables)\n",
    "\n",
    "    for sentence_id, sentence in enumerate(df['sparql']):\n",
    "        words = sentence.split()\n",
    "        variables = identify_variables(words)\n",
    "        for var_type in variables.keys():\n",
    "            for i, var_name in enumerate(variables[var_type]):\n",
    "                if var_name not in var_dict[sentence_id][var_type]:\n",
    "                    var_dict[sentence_id][var_type].append(var_name)\n",
    "\n",
    "create_var_dict(VARIABLES_DICT_TRAIN, train_df)\n",
    "create_var_dict(VARIABLES_DICT_TRAIN, validation_df)\n",
    "create_var_dict(VARIABLES_DICT_VALIDATION, validation_df)"
   ]
  },
  {
   "cell_type": "code",
   "execution_count": null,
   "metadata": {},
   "outputs": [],
   "source": [
    "# TODO\n",
    "def preprocess(tokens: list, var_dict):\n",
    "    for i, token in enumerate(tokens):\n",
    "        if is_variable(token):\n",
    "            var_type = token[:3]\n",
    "            for idx, var in enumerate(var_dict[var_type]):\n",
    "                if var == token:\n",
    "                    tokens[i] = f\"{VAR_TOKEN[var_type]}{idx}>\"\n",
    "\n",
    "    tokens = \" \".join(tokens)\n",
    "    for expression in ENG_KEYWORDS.keys():\n",
    "        tokens = tokens.replace(expression, ENG_KEYWORDS[expression])\n",
    "            \n",
    "    return tokens.split()\n",
    "\n",
    "def train_preprocess(tokens: list):\n",
    "    id = 0\n",
    "    for i, token in enumerate(tokens):\n",
    "        if i == 0 and token.isnumeric():\n",
    "            id = int(token)\n",
    "        if is_variable(token):\n",
    "            var_type = token[:3]\n",
    "            for idx, var in enumerate(VARIABLES_DICT_TRAIN[id][var_type]):\n",
    "                if var == token:\n",
    "                    tokens[i] = f\"{VAR_TOKEN[var_type]}{idx}>\"\n",
    "            \n",
    "    tokens = \" \".join(tokens)\n",
    "    for expression in ENG_KEYWORDS.keys():\n",
    "        tokens = tokens.replace(expression, ENG_KEYWORDS[expression])\n",
    "\n",
    "    tokens = tokens.split()\n",
    "\n",
    "    return tokens[1:]\n",
    "\n",
    "def preprocess_sparql(tokens: list, var_dict):\n",
    "    tokens = preprocess(tokens, var_dict)\n",
    "    for i, token in enumerate(tokens):\n",
    "        if token in SPARQL_KEYWORDS:\n",
    "            tokens[i] = SPARQL_KEYWORDS[token]\n",
    "        \n",
    "    return tokens\n",
    "\n",
    "def train_preprocess_sparql(tokens: list):\n",
    "    id = 0\n",
    "    for i, token in enumerate(tokens):\n",
    "        if i == 0 and token.isnumeric():\n",
    "            id = int(token)\n",
    "        if is_variable(token):\n",
    "            var_type = token[:3]\n",
    "            for idx, var in enumerate(VARIABLES_DICT_TRAIN[id][var_type]):\n",
    "                if var == token:\n",
    "                    tokens[i] = f\"{VAR_TOKEN[var_type]}{idx}>\"\n",
    "\n",
    "    for i, token in enumerate(tokens):\n",
    "        if token in SPARQL_KEYWORDS:\n",
    "            tokens[i] = str(SPARQL_KEYWORDS[token])\n",
    "            \n",
    "    return tokens[1:]"
   ]
  },
  {
   "cell_type": "code",
   "execution_count": null,
   "metadata": {},
   "outputs": [],
   "source": [
    "from datasets import Dataset\n",
    "\n",
    "preprocessed_train = train.copy(deep = True)\n",
    "for i in range(len(preprocessed_train)) :\n",
    "    lookup = VARIABLES_DICT_TRAIN[i]\n",
    "    preprocessed_train[\"english\"][i] = \" \".join(preprocess(preprocessed_train[\"english\"][i].split(), lookup))\n",
    "    preprocessed_train[\"sparql\"][i] = \" \".join(preprocess_sparql(preprocessed_train[\"sparql\"][i].split(), lookup))\n",
    "\n",
    "preprocessed_valid = valid.copy(deep = True)\n",
    "for i in range(len(preprocessed_valid)) :\n",
    "    lookup = VARIABLES_DICT_VALID[i]\n",
    "    preprocessed_valid[\"english\"][i] = \" \".join(preprocess(preprocessed_valid[\"english\"][i].split(), lookup))\n",
    "    preprocessed_valid[\"sparql\"][i] = \" \".join(preprocess_sparql(preprocessed_valid[\"sparql\"][i].split(), lookup))\n",
    "\n",
    "train = Dataset.from_pandas(preprocessed_train, split = \"train\")\n",
    "valid = Dataset.from_pandas(preprocessed_valid, split = \"validation\")"
   ]
  },
  {
   "cell_type": "code",
   "execution_count": null,
   "metadata": {},
   "outputs": [],
   "source": [
    "num_added_toks = tokenizer.add_tokens(SPECIAL_TOKENS, special_tokens = False) ##This line is updated\n",
    "model.resize_token_embeddings(len(tokenizer))"
   ]
  },
  {
   "cell_type": "code",
   "execution_count": null,
   "metadata": {},
   "outputs": [],
   "source": [
    "source_lang = \"english\"\n",
    "target_lang = \"sparql\"\n",
    "\n",
    "def preprocess_function(row) :\n",
    "    inputs = row[source_lang]\n",
    "    targets = row[target_lang]\n",
    "    model_inputs = tokenizer(inputs, text_target=targets, max_length=128, truncation=True)\n",
    "    return model_inputs\n",
    "\n",
    "train_preprocessed = train_ds.map(preprocess_function, batched=True)\n",
    "validation_preprocessed = validation_ds.map(preprocess_function, batched=True)"
   ]
  },
  {
   "cell_type": "code",
   "execution_count": null,
   "metadata": {},
   "outputs": [],
   "source": [
    "from transformers import DataCollatorForSeq2Seq\n",
    "\n",
    "data_collator = DataCollatorForSeq2Seq(tokenizer=tokenizer, model=model)"
   ]
  },
  {
   "cell_type": "markdown",
   "metadata": {},
   "source": [
    "#### 7.3.4. Entraînement"
   ]
  },
  {
   "cell_type": "code",
   "execution_count": null,
   "metadata": {},
   "outputs": [],
   "source": [
    "import numpy\n",
    "from torchtext.data.metrics import bleu_score\n",
    "\n",
    "def postprocess_text(preds, labels):\n",
    "    \"\"\"\n",
    "    preds = [(pred.strip().replace(\".\", \" .\").replace(\"?\", \" ?\").replace(\"<\", \" <\")).split() for pred in preds]\n",
    "    labels = [[(label.strip().replace(\".\", \" .\").replace(\"?\", \" ?\").replace(\"<\", \" <\")).split()] for label in labels]\n",
    "    \"\"\"\n",
    "    preds = [pred.strip().replace(\"<\", \" <\").split() for pred in preds]\n",
    "    labels = [[label.strip().replace(\"<\", \" <\").split()] for label in labels]\n",
    "    \n",
    "\n",
    "    return preds, labels\n",
    "\n",
    "def compute_metrics(eval_preds):\n",
    "    preds, labels = eval_preds\n",
    "    if isinstance(preds, tuple):\n",
    "        preds = preds[0]\n",
    "    decoded_preds = tokenizer.batch_decode(preds, skip_special_tokens=True)\n",
    "\n",
    "    labels = numpy.where(labels != -100, labels, tokenizer.pad_token_id)\n",
    "    decoded_labels = tokenizer.batch_decode(labels, skip_special_tokens=True)\n",
    "\n",
    "    decoded_preds, decoded_labels = postprocess_text(decoded_preds, decoded_labels)\n",
    "\n",
    "    print(f\"PRED: {decoded_preds}\")\n",
    "    print(f\"LABELS: {decoded_labels}\")\n",
    "    \n",
    "    result = {}\n",
    "    result = bleu_score(decoded_preds, decoded_labels)\n",
    "    result = {\"bleu\": result}\n",
    "    \n",
    "\n",
    "    prediction_lens = [numpy.count_nonzero(pred != tokenizer.pad_token_id) for pred in preds]\n",
    "    result[\"gen_len\"] = numpy.mean(prediction_lens)\n",
    "    result = {k: round(v, 4) for k, v in result.items()}\n",
    "    return result"
   ]
  },
  {
   "cell_type": "code",
   "execution_count": null,
   "metadata": {},
   "outputs": [],
   "source": [
    "from transformers import Seq2SeqTrainingArguments, Seq2SeqTrainer\n",
    "\n",
    "training_args = Seq2SeqTrainingArguments(\n",
    "    output_dir=\"my_awesome_opus_books_model\",\n",
    "    evaluation_strategy=\"epoch\",\n",
    "    learning_rate=1e-3,\n",
    "    per_device_train_batch_size=16,\n",
    "    per_device_eval_batch_size=16,\n",
    "    weight_decay=0.01,\n",
    "    save_total_limit=3,\n",
    "    num_train_epochs=12,\n",
    "    predict_with_generate=True,\n",
    "    fp16=False,\n",
    "    push_to_hub=False,\n",
    ")\n",
    "\n",
    "trainer = Seq2SeqTrainer(\n",
    "    model=model,\n",
    "    args=training_args,\n",
    "    train_dataset=train_preprocessed,\n",
    "    eval_dataset=validation_preprocessed,\n",
    "    tokenizer=tokenizer,\n",
    "    data_collator=data_collator,\n",
    "    compute_metrics=compute_metrics,\n",
    ")"
   ]
  },
  {
   "cell_type": "code",
   "execution_count": null,
   "metadata": {},
   "outputs": [],
   "source": [
    "trainer.train()"
   ]
  },
  {
   "cell_type": "markdown",
   "metadata": {},
   "source": [
    "#### 7.3.5. Évaluation sur l'ensemble de validation"
   ]
  },
  {
   "cell_type": "code",
   "execution_count": null,
   "metadata": {},
   "outputs": [],
   "source": [
    "# POST PROCESS\n",
    "test_eng_1 = \"0 select distinct count ( ?uri ) where { ?uri dbo:director dbr:Stanley_Kubrick . }\"\n",
    "test_tokens_1 = train_preprocess_sparql(test_eng_1.split())\n",
    "\n",
    "def postprocess(token_list: list, var_dict: dict):\n",
    "    for i, token in enumerate(token_list):\n",
    "        if is_token_variable(token):\n",
    "            var_type = token[1:4].lower()\n",
    "            if var_type == \"rdf\":\n",
    "                token_list[i] = \"rdf:type\"\n",
    "            else:\n",
    "                var_number = token.split(\"_\")[1][:-1]\n",
    "                if var_number.isnumeric() and len(var_dict[var_type]) > int(var_number):\n",
    "                    token_list[i] = var_dict[var_type][int(var_number)]\n",
    "\n",
    "    for i, token in enumerate(token_list):\n",
    "        if token == \"uri\":\n",
    "            token_list[i] = \"?uri\"\n",
    "        if token in SPARQL_TO_ENG:\n",
    "            token_list[i] = SPARQL_TO_ENG[token]\n",
    "\n",
    "    return \" \".join(token_list)\n",
    "\n",
    "assert(postprocess(test_tokens_1, VARIABLES_DICT_TRAIN[0]) == test_eng_1[2:])"
   ]
  },
  {
   "cell_type": "code",
   "execution_count": null,
   "metadata": {},
   "outputs": [],
   "source": [
    "def assign_random_tokens(token_list: list, variables: dict):\n",
    "    # Récupérer toutes les variables identifiées dans la phrase en anglais.\n",
    "    variables_list = []\n",
    "    for var_type in variables.keys():\n",
    "        for var in variables[var_type]:\n",
    "            variables_list.append(var)\n",
    "\n",
    "    # Retirer toutes les variables traduites en SPARQL.\n",
    "    for token in token_list:\n",
    "        if is_variable(token) and token in variables_list:\n",
    "            variables_list.remove(token)\n",
    "\n",
    "    # Assigner une variable non utilisée à un token non identifié.\n",
    "    for i, token in enumerate(token_list):\n",
    "        if is_token_variable(token):\n",
    "            if len(variables_list) > 0:\n",
    "                unused_var = variables_list.pop()\n",
    "                token_list[i] = unused_var\n",
    "            else:\n",
    "                token_list[i] = ''\n",
    "\n",
    "    output = []\n",
    "    for t in token_list:\n",
    "        if t != '':\n",
    "            output.append(t)\n",
    "\n",
    "    return output\n",
    "\n",
    "translated_text = ['select', 'distinct', 'dbo:director', 'dbr_0']\n",
    "assign_random_tokens(translated_text, VARIABLES_DICT_TRAIN[0])"
   ]
  },
  {
   "cell_type": "code",
   "execution_count": null,
   "metadata": {},
   "outputs": [],
   "source": [
    "import random\n",
    "import re\n",
    "\n",
    "random_test_id = random.randint(0, len(train))\n",
    "text = train['english'][random_test_id]\n",
    "print(f\"Sentence to translate: {text}\\n\")\n",
    "\n",
    "def translate(text, variables_dict):\n",
    "    inputs = tokenizer(text, return_tensors=\"pt\").input_ids.to(device)\n",
    "    outputs = model.to(device).generate(inputs, max_new_tokens=40, do_sample=True, top_k=30, top_p=0.95)\n",
    "    raw_text = tokenizer.decode(outputs[0], skip_special_tokens=True)\n",
    "    raw_text = raw_text.strip().replace(\".\", \" .\").replace(\"?\", \" ?\").replace(\"<\", \" <\")\n",
    "    processed_text = postprocess(raw_text.split(), variables_dict)\n",
    "    processed_text = assign_random_tokens(processed_text.split(), variables_dict)\n",
    "    return \" \".join(processed_text)\n",
    "\n",
    "print(f\"Translation: {translate(text, VARIABLES_DICT_TRAIN[random_test_id])}\")\n",
    "print(f\"Gold passage: {train['sparql'][random_test_id]}\")"
   ]
  },
  {
   "cell_type": "code",
   "execution_count": null,
   "metadata": {},
   "outputs": [],
   "source": [
    "from tqdm import tqdm\n",
    "\n",
    "predicted_texts = []\n",
    "for i, text in enumerate(tqdm(valid['english'])):\n",
    "    translation = translate(text, VARIABLES_DICT_VALID[i])\n",
    "    predicted_texts.append(translation)"
   ]
  },
  {
   "cell_type": "code",
   "execution_count": null,
   "metadata": {},
   "outputs": [],
   "source": [
    "target_texts = []\n",
    "for text in tqdm(validation_df['sparql']):\n",
    "    target_texts.append(text)"
   ]
  },
  {
   "cell_type": "code",
   "execution_count": null,
   "metadata": {},
   "outputs": [],
   "source": [
    "from sklearn.metrics import accuracy_score\n",
    "\n",
    "print(f\"Accuracy: {accuracy_score(target_texts, predicted_texts)}\")"
   ]
  },
  {
   "cell_type": "markdown",
   "metadata": {},
   "source": [
    "#### 7.3.6. Soumission"
   ]
  },
  {
   "cell_type": "code",
   "execution_count": null,
   "metadata": {},
   "outputs": [],
   "source": [
    "submissions = []\n",
    "for i, text in enumerate(tqdm(test_df['english'])) :\n",
    "    translation = translate(text, VARIABLES_DICT_TEST[i])\n",
    "    submissions.append(translation)"
   ]
  },
  {
   "cell_type": "code",
   "execution_count": null,
   "metadata": {},
   "outputs": [],
   "source": [
    "write_submissions_to_csv(f\"{ROOT}/tp4_submission.csv\", submissions)"
   ]
  },
  {
   "cell_type": "markdown",
   "metadata": {},
   "source": [
    "### 7.4. Conclusion (5%)"
   ]
  },
  {
   "cell_type": "markdown",
   "metadata": {},
   "source": [
    "En quelques phrases précises, discutez des avantages et limites de vos architectures. Analysez les cas d’erreur. Indiquez des pistes d’amélioration futures potentielles."
   ]
  },
  {
   "cell_type": "markdown",
   "metadata": {},
   "source": [
    "Dans la **section 7.2**, nous avons réalisé une architecture de type encodeur-décodeur avec un CNN. Le majeur inconvénient à cette architecture est qu'elle n'est pas très généralisable. Elle est conçue pour faire des tâches très précises. Si on introduisait des nouveaux types de questions, il est fort probable que les résultats seraient moins performants. Toutefois, ce modèle a donné des performances satisfaisantes. En effet, c'est le modèle de cette section qui a donné le meilleur score sur l'ensemble de test. Grâce aux étapes de pré-traitement, nous avons pu réduire la taille du vocabulaire en associant chaque variable à un jeton identifiant. Ainsi, cela a réduit les chances de générer un jeton malformé.\n",
    "\n",
    "Les principales erreurs étaient dues à des séparateurs (*.*) ou des variables de type (*rdf*) omis. Ces erreurs\n",
    "\n",
    "Une piste d'améliorer serait d'analyser la nature de la question est d'ajouter une étape de classification pour ensuite entraîner des réseaux de neurones spécifiques au type de question. Par exemple, on pourrait entraîner un réseau pour une question qui demande une quantité et un autre pour les questions qui demandent d'identifier un individu. Il faudrait toutefois que cette classification soit effectuée avec une très grande certitude.\n",
    "\n",
    "Dans la **section 7.3**, nous avons tenté de concevoir un modèle amélioré en utilisant des modèles pré-entraînés et en entraînant des *transformers*. La principale force de cette approche est qu'elle est souvent utilisée dans des problèmes de séquence à séquence comme la traduction. Par conséquent, il existe plusieurs modèles pré-entraînés dans l'état de l'art pour des tâches générales. Cependant, nous n'avons pas obtenu de très bons résultats, notamment parce que nous devions générer des traductions vers une langue nouvelle au modèle. La quasi-totalité des jetons générés étaient nouveaux car, à cause du pré-traitement, nous avons associé chaque mot-clé en SPARQL à un nouveau jeton spécial. L'usage de modèles pré-entraînés ne nous a donc pas été très utile. \n",
    "\n",
    "Nous avons tenté d'implémenter les modèles pré-entraînés sans le pré-traitement, mais les résultats n'ont pas été satisfaisants. Très souvent, les jetons étaient malformés. À cause de la segmentation par séquences de caractères, les noms de variables étaient souvent complexes.\n",
    "\n",
    "Des erreurs de tout type étaient observables. Des fois, les types de variables étaient mal identifiés. Par exemple, le modèle devait générer une variable *dbp* mais a prédit une variable *dbo*. "
   ]
  },
  {
   "cell_type": "markdown",
   "metadata": {
    "id": "4-P0PPOAT21n"
   },
   "source": [
    "## 8. LIVRABLES"
   ]
  },
  {
   "cell_type": "markdown",
   "metadata": {},
   "source": [
    "Vous devez remettre sur Moodle:\n",
    "\n",
    "1) Le code : Un Jupyter notebook en Python qui contient le code tel que soumis dans l’environnement Kaggle implanté avec les librairies disponibles pour ce cours (Python, Keras, NLTK, scikitLearn, etc.) ainsi que votre fichier de soumission de données de test. Le code doit être exécutable sans erreur et accompagné des commentaires appropriés dans le notebook de manière à expliquer les différentes fonctions et étapes dans votre projet. Nous nous réservons le droit de demander une démonstration ou la preuve que vous avez effectué vous-mêmes les expériences décrites. *Attention, en aucun cas votre code ne doit avoir été copié de projets potentiellement existants.*\n",
    "\n",
    "2) Un fichier `requirements.txt` doit indiquer toutes les librairies / données nécessaires. Les critères de qualité tels que la lisibilité du code et des commentaires sont importants. \n",
    "\n",
    "3) Un lien *GoogleDrive* vers les modèles nécessaires pour exécuter votre notebook si approprié.\n",
    "\n",
    "4) Le fichier `tp4_submission.csv`.\n",
    "\n",
    "5) Un document `contributions.txt` : Décrivez brièvement la contribution de chaque membre de l’équipe. Tous les membres sont censés contribuer au développement. Bien que chaque membre puisse effectuer différentes tâches, vous devez vous efforcer d’obtenir une répartition égale du travail. En particulier, tous les membres du projet devraient participer à la conception du projet et participer activement à la réflexion et à l’implémentation du code."
   ]
  },
  {
   "cell_type": "markdown",
   "metadata": {
    "id": "ezXfrDdLUqcI"
   },
   "source": [
    "__EVALUATION__ <br>\n",
    "Votre TP sera évalué sur les points suivants :\n",
    "\n",
    "__Critères :__ \n",
    "1. Implantation correcte et efficace\n",
    "2. Exécution correcte du code\n",
    "3. Qualité du code\n",
    "4. Commentaires clairs et informatifs\n",
    "5. Aspect novateur : autres métriques ou modèles qui dépassent ce qui est demandé\n",
    "\n",
    "__CODE D’HONNEUR__\n",
    "- __Règle 1__:  Le plagiat de code est bien évidemment interdit. Toute utilisation de code doit être référencée adéquatement. L’utilisation de code ne peut concerner que les architectures de base (par exemple le Transformer). Vous __ne pouvez pas__ soumettre un code, écrit par quelqu’un d’autre, faisant de la traduction de la langue naturelle vers SPARQL. Dans le cas contraire, cela sera considéré comme du plagiat. \n",
    "- __Règle 2__: Vous êtes libres de discuter des idées et des détails de mise en œuvre avec d'autres équipes. Cependant, vous ne pouvez en aucun cas consulter le code d'une autre équipe INF8460, ou incorporer leur code dans votre TP.\n",
    "- __Règle 3__:  Vous ne pouvez pas partager votre code publiquement (par exemple, dans un dépôt GitHub public) tant que le cours n'est pas fini."
   ]
  }
 ],
 "metadata": {
  "accelerator": "GPU",
  "colab": {
   "collapsed_sections": [
    "MjrRIyJq1hjW",
    "xqn-1K2za6H_",
    "WwaZEsudMNSu",
    "eXPBkn7oFHGw",
    "1yuG0fvJFlhB",
    "Ij1ghmrl2eQ4",
    "RTmKvWFL2hqA",
    "ZYi_AQdDsx83",
    "vyho0QinwUWn",
    "ULHMXpevv1jt",
    "IX56ht4Yjxv0",
    "w3ISPqpYj3Ia",
    "jrQulA5Vkb4J"
   ],
   "provenance": []
  },
  "gpuClass": "standard",
  "kernelspec": {
   "display_name": "Python 3 (ipykernel)",
   "language": "python",
   "name": "python3"
  },
  "language_info": {
   "codemirror_mode": {
    "name": "ipython",
    "version": 3
   },
   "file_extension": ".py",
   "mimetype": "text/x-python",
   "name": "python",
   "nbconvert_exporter": "python",
   "pygments_lexer": "ipython3",
   "version": "3.9.12"
  },
  "vscode": {
   "interpreter": {
    "hash": "05f5a3bef69ee57bb4fa05e3336c1970c8cc846a6e6ffe1e936a8d89e0ac0557"
   }
  }
 },
 "nbformat": 4,
 "nbformat_minor": 1
}
